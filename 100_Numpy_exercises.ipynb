{
 "cells": [
  {
   "cell_type": "markdown",
   "id": "f44a2f2b",
   "metadata": {},
   "source": [
    "# 100 numpy exercises\n",
    "\n",
    "This is a collection of exercises that have been collected in the numpy mailing list, on stack overflow\n",
    "and in the numpy documentation. The goal of this collection is to offer a quick reference for both old\n",
    "and new users but also to provide a set of exercises for those who teach.\n",
    "\n",
    "\n",
    "If you find an error or think you've a better way to solve some of them, feel\n",
    "free to open an issue at <https://github.com/rougier/numpy-100>."
   ]
  },
  {
   "cell_type": "markdown",
   "id": "0fe3d529",
   "metadata": {},
   "source": [
    "File automatically generated. See the documentation to update questions/answers/hints programmatically."
   ]
  },
  {
   "cell_type": "markdown",
   "id": "23296a93",
   "metadata": {},
   "source": [
    "Run the `initialize.py` module, then for each question you can query the\n",
    "answer or an hint with `hint(n)` or `answer(n)` for `n` question number."
   ]
  },
  {
   "cell_type": "code",
   "execution_count": 9,
   "id": "530390cf",
   "metadata": {},
   "outputs": [],
   "source": [
    "%run initialise.py"
   ]
  },
  {
   "cell_type": "markdown",
   "id": "96443564",
   "metadata": {},
   "source": [
    "#### 1. Import the numpy package under the name `np` (★☆☆)"
   ]
  },
  {
   "cell_type": "code",
   "execution_count": 10,
   "id": "ffe1047e",
   "metadata": {},
   "outputs": [],
   "source": [
    "# needed nothing\n",
    "import numpy as np"
   ]
  },
  {
   "cell_type": "markdown",
   "id": "c807bf1d",
   "metadata": {},
   "source": [
    "#### 2. Print the numpy version and the configuration (★☆☆)"
   ]
  },
  {
   "cell_type": "code",
   "execution_count": 7,
   "id": "f396b717",
   "metadata": {},
   "outputs": [
    {
     "name": "stdout",
     "output_type": "stream",
     "text": [
      "1.22.3\n",
      "blas_armpl_info:\n",
      "  NOT AVAILABLE\n",
      "blas_mkl_info:\n",
      "  NOT AVAILABLE\n",
      "blis_info:\n",
      "  NOT AVAILABLE\n",
      "openblas_info:\n",
      "    libraries = ['openblas', 'openblas']\n",
      "    library_dirs = ['/Users/ericjenvey/opt/miniconda3/lib']\n",
      "    language = c\n",
      "    define_macros = [('HAVE_CBLAS', None)]\n",
      "blas_opt_info:\n",
      "    libraries = ['openblas', 'openblas']\n",
      "    library_dirs = ['/Users/ericjenvey/opt/miniconda3/lib']\n",
      "    language = c\n",
      "    define_macros = [('HAVE_CBLAS', None)]\n",
      "lapack_armpl_info:\n",
      "  NOT AVAILABLE\n",
      "lapack_mkl_info:\n",
      "  NOT AVAILABLE\n",
      "openblas_lapack_info:\n",
      "    libraries = ['openblas', 'openblas']\n",
      "    library_dirs = ['/Users/ericjenvey/opt/miniconda3/lib']\n",
      "    language = c\n",
      "    define_macros = [('HAVE_CBLAS', None)]\n",
      "lapack_opt_info:\n",
      "    libraries = ['openblas', 'openblas']\n",
      "    library_dirs = ['/Users/ericjenvey/opt/miniconda3/lib']\n",
      "    language = c\n",
      "    define_macros = [('HAVE_CBLAS', None)]\n",
      "Supported SIMD extensions in this NumPy install:\n",
      "    baseline = NEON,NEON_FP16,NEON_VFPV4,ASIMD\n",
      "    found = ASIMDHP\n",
      "    not found = ASIMDDP\n"
     ]
    }
   ],
   "source": [
    "# needed answer for show config\n",
    "print(np.__version__)\n",
    "np.show_config()"
   ]
  },
  {
   "cell_type": "markdown",
   "id": "572c1bdb",
   "metadata": {},
   "source": [
    "#### 3. Create a null vector of size 10 (★☆☆)"
   ]
  },
  {
   "cell_type": "code",
   "execution_count": 10,
   "id": "31c9f6a5",
   "metadata": {},
   "outputs": [
    {
     "data": {
      "text/plain": [
       "array([0., 0., 0., 0., 0., 0., 0., 0., 0., 0.])"
      ]
     },
     "execution_count": 10,
     "metadata": {},
     "output_type": "execute_result"
    }
   ],
   "source": [
    "# needed answer\n",
    "np.zeros(10)"
   ]
  },
  {
   "cell_type": "markdown",
   "id": "337e6e36",
   "metadata": {},
   "source": [
    "#### 4. How to find the memory size of any array (★☆☆)"
   ]
  },
  {
   "cell_type": "code",
   "execution_count": 16,
   "id": "31e8ec2e",
   "metadata": {},
   "outputs": [
    {
     "name": "stdout",
     "output_type": "stream",
     "text": [
      "800 bytes\n"
     ]
    }
   ],
   "source": [
    "# needed answer \n",
    "Z = np.zeros((10,10))\n",
    "print(\"%d bytes\" % (Z.size * Z.itemsize))"
   ]
  },
  {
   "cell_type": "code",
   "execution_count": 17,
   "id": "1cab5229",
   "metadata": {},
   "outputs": [
    {
     "name": "stdout",
     "output_type": "stream",
     "text": [
      "[[0. 0. 0. 0. 0. 0. 0. 0. 0. 0.]\n",
      " [0. 0. 0. 0. 0. 0. 0. 0. 0. 0.]\n",
      " [0. 0. 0. 0. 0. 0. 0. 0. 0. 0.]\n",
      " [0. 0. 0. 0. 0. 0. 0. 0. 0. 0.]\n",
      " [0. 0. 0. 0. 0. 0. 0. 0. 0. 0.]\n",
      " [0. 0. 0. 0. 0. 0. 0. 0. 0. 0.]\n",
      " [0. 0. 0. 0. 0. 0. 0. 0. 0. 0.]\n",
      " [0. 0. 0. 0. 0. 0. 0. 0. 0. 0.]\n",
      " [0. 0. 0. 0. 0. 0. 0. 0. 0. 0.]\n",
      " [0. 0. 0. 0. 0. 0. 0. 0. 0. 0.]]\n"
     ]
    }
   ],
   "source": [
    "print(Z)"
   ]
  },
  {
   "cell_type": "markdown",
   "id": "166079c8",
   "metadata": {},
   "source": [
    "#### 5. How to get the documentation of the numpy add function from the command line? (★☆☆)"
   ]
  },
  {
   "cell_type": "code",
   "execution_count": 18,
   "id": "593cd80f",
   "metadata": {
    "scrolled": true
   },
   "outputs": [
    {
     "name": "stdout",
     "output_type": "stream",
     "text": [
      "Help on ufunc:\n",
      "\n",
      "add = <ufunc 'add'>\n",
      "    add(x1, x2, /, out=None, *, where=True, casting='same_kind', order='K', dtype=None, subok=True[, signature, extobj])\n",
      "    \n",
      "    Add arguments element-wise.\n",
      "    \n",
      "    Parameters\n",
      "    ----------\n",
      "    x1, x2 : array_like\n",
      "        The arrays to be added.\n",
      "        If ``x1.shape != x2.shape``, they must be broadcastable to a common\n",
      "        shape (which becomes the shape of the output).\n",
      "    out : ndarray, None, or tuple of ndarray and None, optional\n",
      "        A location into which the result is stored. If provided, it must have\n",
      "        a shape that the inputs broadcast to. If not provided or None,\n",
      "        a freshly-allocated array is returned. A tuple (possible only as a\n",
      "        keyword argument) must have length equal to the number of outputs.\n",
      "    where : array_like, optional\n",
      "        This condition is broadcast over the input. At locations where the\n",
      "        condition is True, the `out` array will be set to the ufunc result.\n",
      "        Elsewhere, the `out` array will retain its original value.\n",
      "        Note that if an uninitialized `out` array is created via the default\n",
      "        ``out=None``, locations within it where the condition is False will\n",
      "        remain uninitialized.\n",
      "    **kwargs\n",
      "        For other keyword-only arguments, see the\n",
      "        :ref:`ufunc docs <ufuncs.kwargs>`.\n",
      "    \n",
      "    Returns\n",
      "    -------\n",
      "    add : ndarray or scalar\n",
      "        The sum of `x1` and `x2`, element-wise.\n",
      "        This is a scalar if both `x1` and `x2` are scalars.\n",
      "    \n",
      "    Notes\n",
      "    -----\n",
      "    Equivalent to `x1` + `x2` in terms of array broadcasting.\n",
      "    \n",
      "    Examples\n",
      "    --------\n",
      "    >>> np.add(1.0, 4.0)\n",
      "    5.0\n",
      "    >>> x1 = np.arange(9.0).reshape((3, 3))\n",
      "    >>> x2 = np.arange(3.0)\n",
      "    >>> np.add(x1, x2)\n",
      "    array([[  0.,   2.,   4.],\n",
      "           [  3.,   5.,   7.],\n",
      "           [  6.,   8.,  10.]])\n",
      "    \n",
      "    The ``+`` operator can be used as a shorthand for ``np.add`` on ndarrays.\n",
      "    \n",
      "    >>> x1 = np.arange(9.0).reshape((3, 3))\n",
      "    >>> x2 = np.arange(3.0)\n",
      "    >>> x1 + x2\n",
      "    array([[ 0.,  2.,  4.],\n",
      "           [ 3.,  5.,  7.],\n",
      "           [ 6.,  8., 10.]])\n",
      "\n"
     ]
    }
   ],
   "source": [
    "# needed nothing\n",
    "help(np.add)"
   ]
  },
  {
   "cell_type": "markdown",
   "id": "3add7101",
   "metadata": {},
   "source": [
    "#### 6. Create a null vector of size 10 but the fifth value which is 1 (★☆☆)"
   ]
  },
  {
   "cell_type": "code",
   "execution_count": 20,
   "id": "2edf3c42",
   "metadata": {},
   "outputs": [
    {
     "name": "stdout",
     "output_type": "stream",
     "text": [
      "[0. 0. 0. 0. 1. 0. 0. 0. 0. 0.]\n"
     ]
    }
   ],
   "source": [
    "# needed nothing\n",
    "z = np.zeros(10)\n",
    "z[4] = 1\n",
    "print(z)"
   ]
  },
  {
   "cell_type": "code",
   "execution_count": 23,
   "id": "c0411ba9",
   "metadata": {},
   "outputs": [
    {
     "name": "stdout",
     "output_type": "stream",
     "text": [
      "Z = np.zeros(10)\n",
      "Z[4] = 1\n",
      "print(Z)\n"
     ]
    }
   ],
   "source": [
    "answer(6)"
   ]
  },
  {
   "cell_type": "markdown",
   "id": "cfc46304",
   "metadata": {},
   "source": [
    "#### 7. Create a vector with values ranging from 10 to 49 (★☆☆)"
   ]
  },
  {
   "cell_type": "code",
   "execution_count": 24,
   "id": "d8b86640",
   "metadata": {},
   "outputs": [
    {
     "name": "stdout",
     "output_type": "stream",
     "text": [
      "[10 11 12 13 14 15 16 17 18 19 20 21 22 23 24 25 26 27 28 29 30 31 32 33\n",
      " 34 35 36 37 38 39 40 41 42 43 44 45 46 47 48 49]\n"
     ]
    }
   ],
   "source": [
    "# needed nothing\n",
    "me = np.arange(10,50)\n",
    "print(me)"
   ]
  },
  {
   "cell_type": "code",
   "execution_count": 25,
   "id": "cc63a2c9",
   "metadata": {},
   "outputs": [
    {
     "name": "stdout",
     "output_type": "stream",
     "text": [
      "Z = np.arange(10,50)\n",
      "print(Z)\n"
     ]
    }
   ],
   "source": [
    "answer(7)"
   ]
  },
  {
   "cell_type": "markdown",
   "id": "0cc200be",
   "metadata": {},
   "source": [
    "#### 8. Reverse a vector (first element becomes last) (★☆☆)"
   ]
  },
  {
   "cell_type": "code",
   "execution_count": 28,
   "id": "ec044bb5",
   "metadata": {},
   "outputs": [
    {
     "name": "stdout",
     "output_type": "stream",
     "text": [
      "[49, 48, 47, 46, 45, 44, 43, 42, 41, 40, 39, 38, 37, 36, 35, 34, 33, 32, 31, 30, 29, 28, 27, 26, 25, 24, 23, 22, 21, 20, 19, 18, 17, 16, 15, 14, 13, 12, 11, 10]\n"
     ]
    }
   ],
   "source": [
    "# needed nothing\n",
    "me = np.arange(10,50)\n",
    "reverse_me = reversed(me)\n",
    "print(list(reverse_me))"
   ]
  },
  {
   "cell_type": "markdown",
   "id": "29d9ede4",
   "metadata": {},
   "source": [
    "#### 9. Create a 3x3 matrix with values ranging from 0 to 8 (★☆☆)"
   ]
  },
  {
   "cell_type": "code",
   "execution_count": 30,
   "id": "d9e39043",
   "metadata": {},
   "outputs": [
    {
     "data": {
      "text/plain": [
       "array([[0, 1, 2],\n",
       "       [3, 4, 5],\n",
       "       [6, 7, 8]])"
      ]
     },
     "execution_count": 30,
     "metadata": {},
     "output_type": "execute_result"
    }
   ],
   "source": [
    "# needed nothing\n",
    "np.arange(0,9).reshape(3,3)"
   ]
  },
  {
   "cell_type": "code",
   "execution_count": 31,
   "id": "2cb63a96",
   "metadata": {},
   "outputs": [
    {
     "name": "stdout",
     "output_type": "stream",
     "text": [
      "Z = np.arange(9).reshape(3, 3)\n",
      "print(Z)\n"
     ]
    }
   ],
   "source": [
    "answer(9)"
   ]
  },
  {
   "cell_type": "markdown",
   "id": "88905ceb",
   "metadata": {},
   "source": [
    "#### 10. Find indices of non-zero elements from [1,2,0,0,4,0] (★☆☆)"
   ]
  },
  {
   "cell_type": "code",
   "execution_count": 35,
   "id": "b2f3c90a",
   "metadata": {},
   "outputs": [
    {
     "data": {
      "text/plain": [
       "(array([0, 1, 4]),)"
      ]
     },
     "execution_count": 35,
     "metadata": {},
     "output_type": "execute_result"
    }
   ],
   "source": [
    "# needed hint\n",
    "me = np.array([1,2,0,0,4,0])\n",
    "\n",
    "np.nonzero(me)"
   ]
  },
  {
   "cell_type": "code",
   "execution_count": 34,
   "id": "8f555a40",
   "metadata": {},
   "outputs": [
    {
     "name": "stdout",
     "output_type": "stream",
     "text": [
      "hint: np.nonzero\n"
     ]
    }
   ],
   "source": [
    "hint(10)"
   ]
  },
  {
   "cell_type": "markdown",
   "id": "49603e91",
   "metadata": {},
   "source": [
    "#### 11. Create a 3x3 identity matrix (★☆☆)"
   ]
  },
  {
   "cell_type": "code",
   "execution_count": 36,
   "id": "5b607b5c",
   "metadata": {},
   "outputs": [
    {
     "data": {
      "text/plain": [
       "array([[1., 0., 0.],\n",
       "       [0., 1., 0.],\n",
       "       [0., 0., 1.]])"
      ]
     },
     "execution_count": 36,
     "metadata": {},
     "output_type": "execute_result"
    }
   ],
   "source": [
    "# needed nothing, but used identity instead of eye\n",
    "np.identity(3)"
   ]
  },
  {
   "cell_type": "code",
   "execution_count": 38,
   "id": "f8d1a404",
   "metadata": {},
   "outputs": [
    {
     "name": "stdout",
     "output_type": "stream",
     "text": [
      "Z = np.eye(3)\n",
      "print(Z)\n"
     ]
    }
   ],
   "source": [
    "answer(11)"
   ]
  },
  {
   "cell_type": "markdown",
   "id": "e15c249a",
   "metadata": {},
   "source": [
    "#### 12. Create a 3x3x3 array with random values (★☆☆)"
   ]
  },
  {
   "cell_type": "code",
   "execution_count": 47,
   "id": "ce857fe5",
   "metadata": {},
   "outputs": [
    {
     "name": "stdout",
     "output_type": "stream",
     "text": [
      "[[[0.82068543 0.22284205 0.2322809 ]\n",
      "  [0.80309605 0.22105789 0.22825852]\n",
      "  [0.84759164 0.49387637 0.8294829 ]]\n",
      "\n",
      " [[0.89551192 0.70035917 0.46774491]\n",
      "  [0.7016806  0.12216577 0.87138025]\n",
      "  [0.51865747 0.00996096 0.20568983]]\n",
      "\n",
      " [[0.35688634 0.12870895 0.06852716]\n",
      "  [0.71932453 0.02054385 0.16071145]\n",
      "  [0.75082834 0.43680997 0.34976044]]]\n"
     ]
    }
   ],
   "source": [
    "# needed hint, but used random sample rather than random\n",
    "print(np.random.random_sample(27).reshape(3,3,3))"
   ]
  },
  {
   "cell_type": "code",
   "execution_count": 48,
   "id": "ab21ed50",
   "metadata": {},
   "outputs": [
    {
     "name": "stdout",
     "output_type": "stream",
     "text": [
      "Z = np.random.random((3,3,3))\n",
      "print(Z)\n"
     ]
    }
   ],
   "source": [
    "answer(12)"
   ]
  },
  {
   "cell_type": "markdown",
   "id": "157a129c",
   "metadata": {},
   "source": [
    "#### 13. Create a 10x10 array with random values and find the minimum and maximum values (★☆☆)"
   ]
  },
  {
   "cell_type": "code",
   "execution_count": 54,
   "id": "c0066de5",
   "metadata": {},
   "outputs": [
    {
     "name": "stdout",
     "output_type": "stream",
     "text": [
      "0.00788283714831084\n",
      "0.9913683379952036\n",
      "0.00788283714831084\n",
      "0.9913683379952036\n"
     ]
    }
   ],
   "source": [
    "# needed hint to know the correct min/max command. Used np.min and np.max rather than array.min/array.max\n",
    "arr = np.random.random((10,10))\n",
    "print(np.min(arr))\n",
    "print(np.max(arr))"
   ]
  },
  {
   "cell_type": "code",
   "execution_count": 53,
   "id": "208873b1",
   "metadata": {},
   "outputs": [
    {
     "name": "stdout",
     "output_type": "stream",
     "text": [
      "Z = np.random.random((10,10))\n",
      "Zmin, Zmax = Z.min(), Z.max()\n",
      "print(Zmin, Zmax)\n"
     ]
    }
   ],
   "source": [
    "answer(13)"
   ]
  },
  {
   "cell_type": "markdown",
   "id": "d92d7b32",
   "metadata": {},
   "source": [
    "#### 14. Create a random vector of size 30 and find the mean value (★☆☆)"
   ]
  },
  {
   "cell_type": "code",
   "execution_count": 59,
   "id": "9672d023",
   "metadata": {},
   "outputs": [
    {
     "name": "stdout",
     "output_type": "stream",
     "text": [
      "[0.95996181 0.98908744 0.16081866 0.03693271 0.14330212 0.86178006\n",
      " 0.64277143 0.37570986 0.88591337 0.04552344 0.48635163 0.24554779\n",
      " 0.38134469 0.72671251 0.5870735  0.8613808  0.2605747  0.44705033\n",
      " 0.05386439 0.25047005 0.0047998  0.05507456 0.85560374 0.11970829\n",
      " 0.70664994 0.72642937 0.2551538  0.39550341 0.67677645 0.50322488]\n",
      "0.45670318506159785\n"
     ]
    }
   ],
   "source": [
    "# Needed nothing\n",
    "z = np.random.random(30)\n",
    "print(z)\n",
    "print(z.mean())"
   ]
  },
  {
   "cell_type": "markdown",
   "id": "f361efc0",
   "metadata": {},
   "source": [
    "#### 15. Create a 2d array with 1 on the border and 0 inside (★☆☆)"
   ]
  },
  {
   "cell_type": "code",
   "execution_count": 69,
   "id": "a55b6666",
   "metadata": {},
   "outputs": [
    {
     "name": "stdout",
     "output_type": "stream",
     "text": [
      "[[1. 1. 1.]\n",
      " [1. 0. 1.]\n",
      " [1. 1. 1.]]\n"
     ]
    }
   ],
   "source": [
    "# Needed hint only, to find slicing strategy\n",
    "z = np.ones(9).reshape(3,3)\n",
    "z[1:-1, 1:-1] = 0\n",
    "print(z)"
   ]
  },
  {
   "cell_type": "code",
   "execution_count": 70,
   "id": "a9db1276",
   "metadata": {},
   "outputs": [
    {
     "name": "stdout",
     "output_type": "stream",
     "text": [
      "Z = np.ones((10,10))\n",
      "Z[1:-1,1:-1] = 0\n",
      "print(Z)\n"
     ]
    }
   ],
   "source": [
    "answer(15)"
   ]
  },
  {
   "cell_type": "markdown",
   "id": "475808cb",
   "metadata": {},
   "source": [
    "#### 16. How to add a border (filled with 0's) around an existing array? (★☆☆)"
   ]
  },
  {
   "cell_type": "code",
   "execution_count": 73,
   "id": "b2df3a8a",
   "metadata": {},
   "outputs": [
    {
     "name": "stdout",
     "output_type": "stream",
     "text": [
      "[[0.         0.         0.         0.         0.         0.        ]\n",
      " [0.         0.24117948 0.75312679 0.14555435 0.52419078 0.        ]\n",
      " [0.         0.21933611 0.16977913 0.13919442 0.18052109 0.        ]\n",
      " [0.         0.87090778 0.2401715  0.36249563 0.04401026 0.        ]\n",
      " [0.         0.27093848 0.17337045 0.73885181 0.21545669 0.        ]\n",
      " [0.         0.         0.         0.         0.         0.        ]]\n"
     ]
    }
   ],
   "source": [
    "# Didn't need anything, but, the np.pad method is more concise, AND the slicing could be \n",
    "# more efficiently coded using []\n",
    "z = np.random.random(36).reshape(6,6)\n",
    "z[0,:] = 0\n",
    "z[: ,0] = 0\n",
    "z[-1,:] = 0\n",
    "z[:, -1] = 0\n",
    "print(z)"
   ]
  },
  {
   "cell_type": "code",
   "execution_count": 75,
   "id": "ad7332ea",
   "metadata": {},
   "outputs": [
    {
     "name": "stdout",
     "output_type": "stream",
     "text": [
      "Z = np.ones((5,5))\n",
      "Z = np.pad(Z, pad_width=1, mode='constant', constant_values=0)\n",
      "print(Z)\n",
      "\n",
      "# Using fancy indexing\n",
      "Z[:, [0, -1]] = 0\n",
      "Z[[0, -1], :] = 0\n",
      "print(Z)\n"
     ]
    }
   ],
   "source": [
    "answer(16)"
   ]
  },
  {
   "cell_type": "markdown",
   "id": "1af07d85",
   "metadata": {},
   "source": [
    "#### 17. What is the result of the following expression? (★☆☆)\n",
    "```python\n",
    "0 * np.nan\n",
    "np.nan == np.nan\n",
    "np.inf > np.nan\n",
    "np.nan - np.nan\n",
    "np.nan in set([np.nan])\n",
    "0.3 == 3 * 0.1\n",
    "```"
   ]
  },
  {
   "cell_type": "code",
   "execution_count": 81,
   "id": "109cf327",
   "metadata": {},
   "outputs": [
    {
     "name": "stdout",
     "output_type": "stream",
     "text": [
      "nan\n",
      "False\n",
      "False\n",
      "nan\n",
      "True\n",
      "False\n"
     ]
    }
   ],
   "source": [
    "print(0 * np.nan)\n",
    "print(np.nan == np.nan)\n",
    "print(np.inf > np.nan)\n",
    "print(np.nan - np.nan)\n",
    "print(np.nan in set([np.nan]))\n",
    "print(0.3 == 3 * 0.1)"
   ]
  },
  {
   "cell_type": "markdown",
   "id": "6a235316",
   "metadata": {},
   "source": [
    "#### 18. Create a 5x5 matrix with values 1,2,3,4 just below the diagonal (★☆☆)"
   ]
  },
  {
   "cell_type": "code",
   "execution_count": 86,
   "id": "f2e6cfa6",
   "metadata": {},
   "outputs": [
    {
     "name": "stdout",
     "output_type": "stream",
     "text": [
      "[[0 0 0 0 0]\n",
      " [1 0 0 0 0]\n",
      " [0 2 0 0 0]\n",
      " [0 0 3 0 0]\n",
      " [0 0 0 4 0]]\n"
     ]
    }
   ],
   "source": [
    "# Didn't need answer, consulted numpy documentation for np.diag command (rather than using np.eye, which is possible here as well)\n",
    "z = np.diag(np.array([1,2,3,4]), k = -1)\n",
    "print(z)"
   ]
  },
  {
   "cell_type": "markdown",
   "id": "25362e98",
   "metadata": {},
   "source": [
    "#### 19. Create a 8x8 matrix and fill it with a checkerboard pattern (★☆☆)"
   ]
  },
  {
   "cell_type": "code",
   "execution_count": 92,
   "id": "cabdf298",
   "metadata": {},
   "outputs": [
    {
     "name": "stdout",
     "output_type": "stream",
     "text": [
      "[[0. 1. 0. 1. 0. 1. 0. 1.]\n",
      " [1. 0. 1. 0. 1. 0. 1. 0.]\n",
      " [0. 1. 0. 1. 0. 1. 0. 1.]\n",
      " [1. 0. 1. 0. 1. 0. 1. 0.]\n",
      " [0. 1. 0. 1. 0. 1. 0. 1.]\n",
      " [1. 0. 1. 0. 1. 0. 1. 0.]\n",
      " [0. 1. 0. 1. 0. 1. 0. 1.]\n",
      " [1. 0. 1. 0. 1. 0. 1. 0.]]\n"
     ]
    }
   ],
   "source": [
    "# Needed answer. Slicing strategy\n",
    "z = np.zeros((8,8))\n",
    "z[1::2, ::2] = 1\n",
    "z[::2, 1::2] = 1\n",
    "print(z)"
   ]
  },
  {
   "cell_type": "code",
   "execution_count": 90,
   "id": "720405f8",
   "metadata": {},
   "outputs": [
    {
     "name": "stdout",
     "output_type": "stream",
     "text": [
      "Z = np.zeros((8,8),dtype=int)\n",
      "Z[1::2,::2] = 1\n",
      "Z[::2,1::2] = 1\n",
      "print(Z)\n"
     ]
    }
   ],
   "source": [
    "answer(19)"
   ]
  },
  {
   "cell_type": "markdown",
   "id": "6431e977",
   "metadata": {},
   "source": [
    "#### 20. Consider a (6,7,8) shape array, what is the index (x,y,z) of the 100th element? (★☆☆)"
   ]
  },
  {
   "cell_type": "code",
   "execution_count": 103,
   "id": "de8b0245",
   "metadata": {},
   "outputs": [
    {
     "name": "stdout",
     "output_type": "stream",
     "text": [
      "(1, 5, 3)\n"
     ]
    }
   ],
   "source": [
    "# Needed answer for np.unravel_index\n",
    "print(np.unravel_index(99, (6,7,8)))"
   ]
  },
  {
   "cell_type": "code",
   "execution_count": 105,
   "id": "746e4751",
   "metadata": {},
   "outputs": [
    {
     "name": "stdout",
     "output_type": "stream",
     "text": [
      "[[[  1.   1.   1.   1.   1.   1.   1.   1.]\n",
      "  [  1.   1.   1.   1.   1.   1.   1.   1.]\n",
      "  [  1.   1.   1.   1.   1.   1.   1.   1.]\n",
      "  [  1.   1.   1.   1.   1.   1.   1.   1.]\n",
      "  [  1.   1.   1.   1.   1.   1.   1.   1.]\n",
      "  [  1.   1.   1.   1.   1.   1.   1.   1.]\n",
      "  [  1.   1.   1.   1.   1.   1.   1.   1.]]\n",
      "\n",
      " [[  1.   1.   1.   1.   1.   1.   1.   1.]\n",
      "  [  1.   1.   1.   1.   1.   1.   1.   1.]\n",
      "  [  1.   1.   1.   1.   1.   1.   1.   1.]\n",
      "  [  1.   1.   1.   1.   1.   1.   1.   1.]\n",
      "  [  1.   1.   1.   1.   1.   1.   1.   1.]\n",
      "  [  1.   1.   1. 100.   1.   1.   1.   1.]\n",
      "  [  1.   1.   1.   1.   1.   1.   1.   1.]]\n",
      "\n",
      " [[  1.   1.   1.   1.   1.   1.   1.   1.]\n",
      "  [  1.   1.   1.   1.   1.   1.   1.   1.]\n",
      "  [  1.   1.   1.   1.   1.   1.   1.   1.]\n",
      "  [  1.   1.   1.   1.   1.   1.   1.   1.]\n",
      "  [  1.   1.   1.   1.   1.   1.   1.   1.]\n",
      "  [  1.   1.   1.   1.   1.   1.   1.   1.]\n",
      "  [  1.   1.   1.   1.   1.   1.   1.   1.]]\n",
      "\n",
      " [[  1.   1.   1.   1.   1.   1.   1.   1.]\n",
      "  [  1.   1.   1.   1.   1.   1.   1.   1.]\n",
      "  [  1.   1.   1.   1.   1.   1.   1.   1.]\n",
      "  [  1.   1.   1.   1.   1.   1.   1.   1.]\n",
      "  [  1.   1.   1.   1.   1.   1.   1.   1.]\n",
      "  [  1.   1.   1.   1.   1.   1.   1.   1.]\n",
      "  [  1.   1.   1.   1.   1.   1.   1.   1.]]\n",
      "\n",
      " [[  1.   1.   1.   1.   1.   1.   1.   1.]\n",
      "  [  1.   1.   1.   1.   1.   1.   1.   1.]\n",
      "  [  1.   1.   1.   1.   1.   1.   1.   1.]\n",
      "  [  1.   1.   1.   1.   1.   1.   1.   1.]\n",
      "  [  1.   1.   1.   1.   1.   1.   1.   1.]\n",
      "  [  1.   1.   1.   1.   1.   1.   1.   1.]\n",
      "  [  1.   1.   1.   1.   1.   1.   1.   1.]]\n",
      "\n",
      " [[  1.   1.   1.   1.   1.   1.   1.   1.]\n",
      "  [  1.   1.   1.   1.   1.   1.   1.   1.]\n",
      "  [  1.   1.   1.   1.   1.   1.   1.   1.]\n",
      "  [  1.   1.   1.   1.   1.   1.   1.   1.]\n",
      "  [  1.   1.   1.   1.   1.   1.   1.   1.]\n",
      "  [  1.   1.   1.   1.   1.   1.   1.   1.]\n",
      "  [  1.   1.   1.   1.   1.   1.   1.   1.]]]\n"
     ]
    }
   ],
   "source": [
    "z = np.ones((6,7,8))\n",
    "z[1,5,3] = 100\n",
    "print(z)"
   ]
  },
  {
   "cell_type": "code",
   "execution_count": 100,
   "id": "fb638136",
   "metadata": {},
   "outputs": [
    {
     "name": "stdout",
     "output_type": "stream",
     "text": [
      "print(np.unravel_index(99,(6,7,8)))\n"
     ]
    }
   ],
   "source": [
    "answer(20)"
   ]
  },
  {
   "cell_type": "markdown",
   "id": "31abe6fe",
   "metadata": {},
   "source": [
    "#### 21. Create a checkerboard 8x8 matrix using the tile function (★☆☆)"
   ]
  },
  {
   "cell_type": "code",
   "execution_count": 113,
   "id": "6da26fd3",
   "metadata": {},
   "outputs": [
    {
     "data": {
      "text/plain": [
       "array([[0, 1, 0, 1, 0, 1, 0, 1],\n",
       "       [1, 0, 1, 0, 1, 0, 1, 0],\n",
       "       [0, 1, 0, 1, 0, 1, 0, 1],\n",
       "       [1, 0, 1, 0, 1, 0, 1, 0],\n",
       "       [0, 1, 0, 1, 0, 1, 0, 1],\n",
       "       [1, 0, 1, 0, 1, 0, 1, 0],\n",
       "       [0, 1, 0, 1, 0, 1, 0, 1],\n",
       "       [1, 0, 1, 0, 1, 0, 1, 0]])"
      ]
     },
     "execution_count": 113,
     "metadata": {},
     "output_type": "execute_result"
    }
   ],
   "source": [
    "# Needed answer\n",
    "np.tile(np.array([[0,1], [1,0]]), (4,4))"
   ]
  },
  {
   "cell_type": "markdown",
   "id": "fd88b3f4",
   "metadata": {},
   "source": [
    "#### 22. Normalize a 5x5 random matrix (★☆☆)"
   ]
  },
  {
   "cell_type": "code",
   "execution_count": 119,
   "id": "ee6ced60",
   "metadata": {},
   "outputs": [
    {
     "data": {
      "text/plain": [
       "array([[-1.70519568, -1.65106248, -1.59692929, -1.54279609, -1.4886629 ,\n",
       "        -1.4345297 , -1.3803965 , -1.32626331],\n",
       "       [-1.27213011, -1.21799691, -1.16386372, -1.10973052, -1.05559733,\n",
       "        -1.00146413, -0.94733093, -0.89319774],\n",
       "       [-0.83906454, -0.78493134, -0.73079815, -0.67666495, -0.62253176,\n",
       "        -0.56839856, -0.51426536, -0.46013217],\n",
       "       [-0.40599897, -0.35186578, -0.29773258, -0.24359938, -0.18946619,\n",
       "        -0.13533299, -0.08119979, -0.0270666 ],\n",
       "       [ 0.0270666 ,  0.08119979,  0.13533299,  0.18946619,  0.24359938,\n",
       "         0.29773258,  0.35186578,  0.40599897],\n",
       "       [ 0.46013217,  0.51426536,  0.56839856,  0.62253176,  0.67666495,\n",
       "         0.73079815,  0.78493134,  0.83906454],\n",
       "       [ 0.89319774,  0.94733093,  1.00146413,  1.05559733,  1.10973052,\n",
       "         1.16386372,  1.21799691,  1.27213011],\n",
       "       [ 1.32626331,  1.3803965 ,  1.4345297 ,  1.4886629 ,  1.54279609,\n",
       "         1.59692929,  1.65106248,  1.70519568]])"
      ]
     },
     "execution_count": 119,
     "metadata": {},
     "output_type": "execute_result"
    }
   ],
   "source": [
    "# Didn't need anything, but used array.mean, rather than np.mean\n",
    "z = np.arange(64).reshape(8,8) \n",
    "(z - np.mean(z)) / np.std(z)"
   ]
  },
  {
   "cell_type": "markdown",
   "id": "464d8590",
   "metadata": {},
   "source": [
    "#### 23. Create a custom dtype that describes a color as four unsigned bytes (RGBA) (★☆☆)"
   ]
  },
  {
   "cell_type": "code",
   "execution_count": 124,
   "id": "e2f9cfc6",
   "metadata": {},
   "outputs": [
    {
     "name": "stdout",
     "output_type": "stream",
     "text": [
      "[('r', 'u1'), ('g', 'u1'), ('b', 'u1'), ('a', 'u1')]\n"
     ]
    }
   ],
   "source": [
    "# Needed answer\n",
    "color = np.dtype([(\"r\", np.ubyte),\n",
    "                  (\"g\", np.ubyte),\n",
    "                  (\"b\", np.ubyte),\n",
    "                  (\"a\", np.ubyte)])\n",
    "\n",
    "print(color)"
   ]
  },
  {
   "cell_type": "markdown",
   "id": "06c63bb3",
   "metadata": {},
   "source": [
    "#### 24. Multiply a 5x3 matrix by a 3x2 matrix (real matrix product) (★☆☆)"
   ]
  },
  {
   "cell_type": "code",
   "execution_count": 127,
   "id": "9fc0d553",
   "metadata": {},
   "outputs": [
    {
     "name": "stdout",
     "output_type": "stream",
     "text": [
      "[[ 0  1  2]\n",
      " [ 3  4  5]\n",
      " [ 6  7  8]\n",
      " [ 9 10 11]\n",
      " [12 13 14]]\n",
      "[[0 1]\n",
      " [2 3]\n",
      " [4 5]]\n"
     ]
    },
    {
     "data": {
      "text/plain": [
       "array([[ 10,  13],\n",
       "       [ 28,  40],\n",
       "       [ 46,  67],\n",
       "       [ 64,  94],\n",
       "       [ 82, 121]])"
      ]
     },
     "execution_count": 127,
     "metadata": {},
     "output_type": "execute_result"
    }
   ],
   "source": [
    "# Needed to research numpy matrix multiplication methods\n",
    "# matmul works, as does np.dot, as does the \"at\" symbol\n",
    "a = np.arange(15).reshape(5,3)\n",
    "b = np.arange(6).reshape(3,2)\n",
    "\n",
    "print(a)\n",
    "print(b)\n",
    "\n",
    "np.matmul(a,b)"
   ]
  },
  {
   "cell_type": "code",
   "execution_count": 128,
   "id": "d44224df",
   "metadata": {},
   "outputs": [
    {
     "name": "stdout",
     "output_type": "stream",
     "text": [
      "Z = np.dot(np.ones((5,3)), np.ones((3,2)))\n",
      "print(Z)\n",
      "\n",
      "# Alternative solution, in Python 3.5 and above\n",
      "Z = np.ones((5,3)) @ np.ones((3,2))\n",
      "print(Z)\n"
     ]
    }
   ],
   "source": [
    "answer(24)"
   ]
  },
  {
   "cell_type": "code",
   "execution_count": 131,
   "id": "22d85d49",
   "metadata": {},
   "outputs": [
    {
     "data": {
      "text/plain": [
       "array([[ 10,  13],\n",
       "       [ 28,  40],\n",
       "       [ 46,  67],\n",
       "       [ 64,  94],\n",
       "       [ 82, 121]])"
      ]
     },
     "execution_count": 131,
     "metadata": {},
     "output_type": "execute_result"
    }
   ],
   "source": [
    "a @ b"
   ]
  },
  {
   "cell_type": "markdown",
   "id": "76fa6285",
   "metadata": {},
   "source": [
    "#### 25. Given a 1D array, negate all elements which are between 3 and 8, in place. (★☆☆)"
   ]
  },
  {
   "cell_type": "code",
   "execution_count": 138,
   "id": "0e25eca7",
   "metadata": {},
   "outputs": [
    {
     "name": "stdout",
     "output_type": "stream",
     "text": [
      "[ 0  1  2  3 -4 -5 -6 -7  8  9]\n"
     ]
    }
   ],
   "source": [
    "# Needed answer, but it was simply a slicing with multiple conditions\n",
    "z = np.arange(10)\n",
    "z[(3 < z) & (z < 8)] *= -1\n",
    "print(z)\n"
   ]
  },
  {
   "cell_type": "code",
   "execution_count": 136,
   "id": "414d9f83",
   "metadata": {},
   "outputs": [
    {
     "name": "stdout",
     "output_type": "stream",
     "text": [
      "# Author: Evgeni Burovski\n",
      "\n",
      "Z = np.arange(11)\n",
      "Z[(3 < Z) & (Z < 8)] *= -1\n",
      "print(Z)\n"
     ]
    }
   ],
   "source": [
    "answer(25)"
   ]
  },
  {
   "cell_type": "markdown",
   "id": "930ed8bb",
   "metadata": {},
   "source": [
    "#### 26. What is the output of the following script? (★☆☆)\n",
    "```python\n",
    "# Author: Jake VanderPlas\n",
    "\n",
    "print(sum(range(5),-1))\n",
    "from numpy import *\n",
    "print(sum(range(5),-1))\n",
    "```"
   ]
  },
  {
   "cell_type": "code",
   "execution_count": 1,
   "id": "f02eedba",
   "metadata": {},
   "outputs": [
    {
     "name": "stdout",
     "output_type": "stream",
     "text": [
      "9\n",
      "10\n"
     ]
    }
   ],
   "source": [
    "print(sum(range(5),-1))\n",
    "from numpy import *\n",
    "print(sum(range(5),-1))"
   ]
  },
  {
   "cell_type": "markdown",
   "id": "177120e7",
   "metadata": {},
   "source": [
    "#### 27. Consider an integer vector Z, which of these expressions are legal? (★☆☆)\n",
    "```python\n",
    "Z**Z\n",
    "2 << Z >> 2\n",
    "Z <- Z\n",
    "1j*Z\n",
    "Z/1/1\n",
    "Z<Z>Z\n",
    "```"
   ]
  },
  {
   "cell_type": "code",
   "execution_count": 13,
   "id": "86d6cbef",
   "metadata": {},
   "outputs": [],
   "source": [
    "# Unclear, all?"
   ]
  },
  {
   "cell_type": "markdown",
   "id": "a6eaf0e8",
   "metadata": {},
   "source": [
    "#### 28. What are the result of the following expressions? (★☆☆)\n",
    "```python\n",
    "np.array(0) / np.array(0)\n",
    "np.array(0) // np.array(0)\n",
    "np.array([np.nan]).astype(int).astype(float)\n",
    "```"
   ]
  },
  {
   "cell_type": "code",
   "execution_count": 17,
   "id": "93684068",
   "metadata": {},
   "outputs": [
    {
     "data": {
      "text/plain": [
       "array([0.])"
      ]
     },
     "execution_count": 17,
     "metadata": {},
     "output_type": "execute_result"
    }
   ],
   "source": [
    "# NAN\n",
    "# 0\n",
    "# Array with 0 as the single value"
   ]
  },
  {
   "cell_type": "markdown",
   "id": "524b65f8",
   "metadata": {},
   "source": [
    "#### 29. How to round away from zero a float array ? (★☆☆)"
   ]
  },
  {
   "cell_type": "code",
   "execution_count": 22,
   "id": "61fbb78e",
   "metadata": {},
   "outputs": [
    {
     "name": "stdout",
     "output_type": "stream",
     "text": [
      "[ 5.3671053  -7.61407163 -3.04784499  8.06504896  7.68506305 -5.96291044\n",
      " -2.39758427  3.8878343   4.80131137  1.62481751]\n",
      "[ 6. -8. -4.  9.  8. -6. -3.  4.  5.  2.]\n"
     ]
    }
   ],
   "source": [
    "# Needed answer. Copysign copies the signs from one array to another, np.where is an ifelse for numpy arrays\n",
    "Z = np.random.uniform(-10, +10, 10)\n",
    "print(Z)\n",
    "print(np.where(Z > 0, np.ceil(Z), np.floor(Z)))"
   ]
  },
  {
   "cell_type": "code",
   "execution_count": 34,
   "id": "4e4f3e9d",
   "metadata": {},
   "outputs": [],
   "source": [
    "y = np.array([-1])"
   ]
  },
  {
   "cell_type": "code",
   "execution_count": 35,
   "id": "399d75ad",
   "metadata": {},
   "outputs": [
    {
     "name": "stdout",
     "output_type": "stream",
     "text": [
      "[-6. -8. -4. -9. -8. -6. -3. -4. -5. -2.]\n"
     ]
    }
   ],
   "source": [
    "print(np.copysign(np.ceil(np.abs(Z)), y))"
   ]
  },
  {
   "cell_type": "code",
   "execution_count": 21,
   "id": "3ff9a53f",
   "metadata": {},
   "outputs": [
    {
     "name": "stdout",
     "output_type": "stream",
     "text": [
      "# Author: Charles R Harris\n",
      "\n",
      "Z = np.random.uniform(-10,+10,10)\n",
      "print(np.copysign(np.ceil(np.abs(Z)), Z))\n",
      "\n",
      "# More readable but less efficient\n",
      "print(np.where(Z>0, np.ceil(Z), np.floor(Z)))\n"
     ]
    }
   ],
   "source": [
    "answer(29)"
   ]
  },
  {
   "cell_type": "markdown",
   "id": "8dc40752",
   "metadata": {},
   "source": [
    "#### 30. How to find common values between two arrays? (★☆☆)"
   ]
  },
  {
   "cell_type": "code",
   "execution_count": 45,
   "id": "54399cbe",
   "metadata": {},
   "outputs": [
    {
     "name": "stdout",
     "output_type": "stream",
     "text": [
      "[7. 5. 3. 3. 9. 9. 3. 4. 1. 3.]\n",
      "[ 5. 10.  1.  9.  8.  8.  9.  2.  4.  5.]\n"
     ]
    },
    {
     "data": {
      "text/plain": [
       "array([False, False, False, False, False, False, False, False, False,\n",
       "       False])"
      ]
     },
     "execution_count": 45,
     "metadata": {},
     "output_type": "execute_result"
    }
   ],
   "source": [
    "# Needed answer to get intersect1d command. a==b will pull the matching indices, but not values. \n",
    "a = np.ceil(np.random.uniform(0, 10, 10))\n",
    "b = np.ceil(np.random.uniform(0,10,10))\n",
    "\n",
    "print(a)\n",
    "print(b)\n",
    "\n",
    "a==b"
   ]
  },
  {
   "cell_type": "code",
   "execution_count": 43,
   "id": "e4245b82",
   "metadata": {},
   "outputs": [
    {
     "data": {
      "text/plain": [
       "array([1., 4., 5., 7., 8., 9.])"
      ]
     },
     "execution_count": 43,
     "metadata": {},
     "output_type": "execute_result"
    }
   ],
   "source": [
    "np.intersect1d(a,b)"
   ]
  },
  {
   "cell_type": "code",
   "execution_count": 41,
   "id": "925b4690",
   "metadata": {},
   "outputs": [
    {
     "name": "stdout",
     "output_type": "stream",
     "text": [
      "Z1 = np.random.randint(0,10,10)\n",
      "Z2 = np.random.randint(0,10,10)\n",
      "print(np.intersect1d(Z1,Z2))\n"
     ]
    }
   ],
   "source": [
    "answer(30)"
   ]
  },
  {
   "cell_type": "markdown",
   "id": "b7f38e21",
   "metadata": {},
   "source": [
    "#### 31. How to ignore all numpy warnings (not recommended)? (★☆☆)"
   ]
  },
  {
   "cell_type": "code",
   "execution_count": 46,
   "id": "2ca3289c",
   "metadata": {},
   "outputs": [
    {
     "name": "stdout",
     "output_type": "stream",
     "text": [
      "# Suicide mode on\n",
      "defaults = np.seterr(all=\"ignore\")\n",
      "Z = np.ones(1) / 0\n",
      "\n",
      "# Back to sanity\n",
      "_ = np.seterr(**defaults)\n",
      "\n",
      "# Equivalently with a context manager\n",
      "with np.errstate(all=\"ignore\"):\n",
      "    np.arange(3) / 0\n"
     ]
    }
   ],
   "source": [
    "answer(31)"
   ]
  },
  {
   "cell_type": "markdown",
   "id": "2d850aab",
   "metadata": {},
   "source": [
    "#### 32. Is the following expressions true? (★☆☆)\n",
    "```python\n",
    "np.sqrt(-1) == np.emath.sqrt(-1)\n",
    "```"
   ]
  },
  {
   "cell_type": "code",
   "execution_count": 49,
   "id": "5c83ffce",
   "metadata": {},
   "outputs": [
    {
     "data": {
      "text/plain": [
       "1j"
      ]
     },
     "execution_count": 49,
     "metadata": {},
     "output_type": "execute_result"
    }
   ],
   "source": [
    "# np.sqrt returns nan, emath.sqrt properly returns an imaginary number\n",
    "np.emath.sqrt(-1)"
   ]
  },
  {
   "cell_type": "markdown",
   "id": "5c4a556f",
   "metadata": {},
   "source": [
    "#### 33. How to get the dates of yesterday, today and tomorrow? (★☆☆)"
   ]
  },
  {
   "cell_type": "code",
   "execution_count": 62,
   "id": "c3b683a0",
   "metadata": {},
   "outputs": [
    {
     "name": "stdout",
     "output_type": "stream",
     "text": [
      "2022-08-19\n",
      "2022-08-21\n",
      "2022-08-20\n"
     ]
    }
   ],
   "source": [
    "# Needed answer for the date commands\n",
    "yesterday = np.datetime64('today') - np.timedelta64(1)\n",
    "today = np.datetime64('today') \n",
    "tomorrow = np.datetime64('today') + np.timedelta64(1)\n",
    "print(yesterday)\n",
    "print(tomorrow)\n",
    "print(today)"
   ]
  },
  {
   "cell_type": "code",
   "execution_count": 61,
   "id": "af8f26bc",
   "metadata": {},
   "outputs": [
    {
     "name": "stdout",
     "output_type": "stream",
     "text": [
      "yesterday = np.datetime64('today') - np.timedelta64(1)\n",
      "today     = np.datetime64('today')\n",
      "tomorrow  = np.datetime64('today') + np.timedelta64(1)\n"
     ]
    }
   ],
   "source": [
    "answer(33)"
   ]
  },
  {
   "cell_type": "markdown",
   "id": "453cdd64",
   "metadata": {},
   "source": [
    "#### 34. How to get all the dates corresponding to the month of July 2016? (★★☆)"
   ]
  },
  {
   "cell_type": "code",
   "execution_count": 71,
   "id": "4ba4d37c",
   "metadata": {},
   "outputs": [
    {
     "data": {
      "text/plain": [
       "array(['2016-07-01', '2016-07-02', '2016-07-03', '2016-07-04',\n",
       "       '2016-07-05', '2016-07-06', '2016-07-07', '2016-07-08',\n",
       "       '2016-07-09', '2016-07-10', '2016-07-11', '2016-07-12',\n",
       "       '2016-07-13', '2016-07-14', '2016-07-15', '2016-07-16',\n",
       "       '2016-07-17', '2016-07-18', '2016-07-19', '2016-07-20',\n",
       "       '2016-07-21', '2016-07-22', '2016-07-23', '2016-07-24',\n",
       "       '2016-07-25', '2016-07-26', '2016-07-27', '2016-07-28',\n",
       "       '2016-07-29', '2016-07-30', '2016-07-31'], dtype='datetime64[D]')"
      ]
     },
     "execution_count": 71,
     "metadata": {},
     "output_type": "execute_result"
    }
   ],
   "source": [
    "# Needed answer to understand how datetime64 works. Can use subscript to generate ranges across months, years, days, times, etc.\n",
    "np.arange('2016-07', '2016-08', dtype = 'datetime64[D]')"
   ]
  },
  {
   "cell_type": "code",
   "execution_count": 67,
   "id": "7421451e",
   "metadata": {},
   "outputs": [
    {
     "name": "stdout",
     "output_type": "stream",
     "text": [
      "Z = np.arange('2016-07', '2016-08', dtype='datetime64[D]')\n",
      "print(Z)\n"
     ]
    }
   ],
   "source": [
    "answer(34)"
   ]
  },
  {
   "cell_type": "markdown",
   "id": "52667b6e",
   "metadata": {},
   "source": [
    "#### 35. How to compute ((A+B)*(-A/2)) in place (without copy)? (★★☆)"
   ]
  },
  {
   "cell_type": "code",
   "execution_count": 72,
   "id": "e6e7c030",
   "metadata": {},
   "outputs": [
    {
     "data": {
      "text/plain": [
       "array([-48. , -20. , -85.5,  -4.5, -65. , -28. , -39. , -16.5, -68. ,\n",
       "       -27.5])"
      ]
     },
     "execution_count": 72,
     "metadata": {},
     "output_type": "execute_result"
    }
   ],
   "source": [
    "# Needed answer to understand the \"out\" argument. Obviously can do the calculation as below, but will create a copy\n",
    "a = np.ceil(np.random.uniform(0, 10, 10))\n",
    "b = np.ceil(np.random.uniform(0,10,10))\n",
    "\n",
    "((a+b) * (-a/2))"
   ]
  },
  {
   "cell_type": "code",
   "execution_count": 75,
   "id": "03ab77c6",
   "metadata": {},
   "outputs": [
    {
     "data": {
      "text/plain": [
       "array([16.,  8., 19.,  9., 13.,  8., 13., 11., 17., 11.])"
      ]
     },
     "execution_count": 75,
     "metadata": {},
     "output_type": "execute_result"
    }
   ],
   "source": [
    "np.add(a, b, out=b)"
   ]
  },
  {
   "cell_type": "code",
   "execution_count": 79,
   "id": "ab8f6688",
   "metadata": {},
   "outputs": [
    {
     "data": {
      "text/plain": [
       "array([-48. , -20. , -85.5,  -4.5, -65. , -28. , -39. , -16.5, -68. ,\n",
       "       -27.5])"
      ]
     },
     "execution_count": 79,
     "metadata": {},
     "output_type": "execute_result"
    }
   ],
   "source": [
    "np.divide(a, 2, out = a)\n",
    "np.negative(a, out = a)\n",
    "np.multiply(a, b, out = a)"
   ]
  },
  {
   "cell_type": "code",
   "execution_count": 74,
   "id": "c133b8af",
   "metadata": {},
   "outputs": [
    {
     "name": "stdout",
     "output_type": "stream",
     "text": [
      "A = np.ones(3)*1\n",
      "B = np.ones(3)*2\n",
      "np.add(A,B,out=B)\n",
      "np.divide(A,2,out=A)\n",
      "np.negative(A,out=A)\n",
      "np.multiply(A,B,out=A)\n"
     ]
    }
   ],
   "source": [
    "answer(35)"
   ]
  },
  {
   "cell_type": "markdown",
   "id": "9a8f3738",
   "metadata": {},
   "source": [
    "#### 36. Extract the integer part of a random array of positive numbers using 4 different methods (★★☆)"
   ]
  },
  {
   "cell_type": "code",
   "execution_count": 96,
   "id": "368a801a",
   "metadata": {},
   "outputs": [
    {
     "name": "stdout",
     "output_type": "stream",
     "text": [
      "[6.20383348 5.52780467 1.309815   9.5943012  9.6212314  5.97110313\n",
      " 9.78329661 5.23346828 6.33193939 9.08176296]\n",
      "[6. 5. 1. 9. 9. 5. 9. 5. 6. 9.]\n",
      "[6. 5. 1. 9. 9. 5. 9. 5. 6. 9.]\n",
      "[6. 5. 1. 9. 9. 5. 9. 5. 6. 9.]\n",
      "[6 5 1 9 9 5 9 5 6 9]\n",
      "[6. 5. 1. 9. 9. 5. 9. 5. 6. 9.]\n"
     ]
    }
   ],
   "source": [
    "# Needed hint for astype and trunc\n",
    "a = np.random.uniform(1, 10, 10)\n",
    "print(a)\n",
    "print(a // 1)\n",
    "print(np.floor(a))\n",
    "print(a - a % 1)\n",
    "print(a.astype(int))\n",
    "print(np.trunc(a))"
   ]
  },
  {
   "cell_type": "code",
   "execution_count": 87,
   "id": "4d2e544e",
   "metadata": {},
   "outputs": [
    {
     "name": "stdout",
     "output_type": "stream",
     "text": [
      "hint: %, np.floor, astype, np.trunc\n"
     ]
    }
   ],
   "source": [
    "hint(36)"
   ]
  },
  {
   "cell_type": "markdown",
   "id": "cab1eed1",
   "metadata": {},
   "source": [
    "#### 37. Create a 5x5 matrix with row values ranging from 0 to 4 (★★☆)"
   ]
  },
  {
   "cell_type": "code",
   "execution_count": 99,
   "id": "f1b579ba",
   "metadata": {},
   "outputs": [
    {
     "data": {
      "text/plain": [
       "array([[4, 1, 2, 4, 3],\n",
       "       [1, 0, 2, 3, 4],\n",
       "       [0, 1, 0, 0, 1],\n",
       "       [0, 1, 1, 2, 4],\n",
       "       [2, 1, 0, 0, 3]])"
      ]
     },
     "execution_count": 99,
     "metadata": {},
     "output_type": "execute_result"
    }
   ],
   "source": [
    "# Was able to do without hint, but confused at their solution...seems overengineered\n",
    "np.random.randint(0, 5, 25).reshape(5,5)"
   ]
  },
  {
   "cell_type": "code",
   "execution_count": 100,
   "id": "92e42c06",
   "metadata": {},
   "outputs": [
    {
     "name": "stdout",
     "output_type": "stream",
     "text": [
      "Z = np.zeros((5,5))\n",
      "Z += np.arange(5)\n",
      "print(Z)\n",
      "\n",
      "# without broadcasting\n",
      "Z = np.tile(np.arange(0, 5), (5,1))\n",
      "print(Z)\n"
     ]
    }
   ],
   "source": [
    "answer(37)"
   ]
  },
  {
   "cell_type": "code",
   "execution_count": 101,
   "id": "b6434db9",
   "metadata": {},
   "outputs": [
    {
     "name": "stdout",
     "output_type": "stream",
     "text": [
      "[[0 1 2 3 4]\n",
      " [0 1 2 3 4]\n",
      " [0 1 2 3 4]\n",
      " [0 1 2 3 4]\n",
      " [0 1 2 3 4]]\n"
     ]
    }
   ],
   "source": [
    "Z = np.tile(np.arange(0, 5), (5,1))\n",
    "print(Z)"
   ]
  },
  {
   "cell_type": "markdown",
   "id": "cd0ce6b1",
   "metadata": {},
   "source": [
    "#### 38. Consider a generator function that generates 10 integers and use it to build an array (★☆☆)"
   ]
  },
  {
   "cell_type": "code",
   "execution_count": 110,
   "id": "aab193a6",
   "metadata": {},
   "outputs": [
    {
     "name": "stdout",
     "output_type": "stream",
     "text": [
      "[0 1 2 3 4 5 6 7 8 9]\n"
     ]
    }
   ],
   "source": [
    "# Needed answer to get fromiter function, and understand it was asking to pull from a generator\n",
    "def generate():\n",
    "    for x in range(10):\n",
    "        yield x\n",
    "        \n",
    "a = np.fromiter(generate(), dtype=int, count=-1)\n",
    "print(a)"
   ]
  },
  {
   "cell_type": "code",
   "execution_count": 104,
   "id": "aaedb573",
   "metadata": {},
   "outputs": [
    {
     "name": "stdout",
     "output_type": "stream",
     "text": [
      "def generate():\n",
      "    for x in range(10):\n",
      "        yield x\n",
      "Z = np.fromiter(generate(),dtype=float,count=-1)\n",
      "print(Z)\n"
     ]
    }
   ],
   "source": [
    "answer(38)"
   ]
  },
  {
   "cell_type": "markdown",
   "id": "c4c942d1",
   "metadata": {},
   "source": [
    "#### 39. Create a vector of size 10 with values ranging from 0 to 1, both excluded (★★☆)"
   ]
  },
  {
   "cell_type": "code",
   "execution_count": 116,
   "id": "2fe8655d",
   "metadata": {},
   "outputs": [
    {
     "data": {
      "text/plain": [
       "array([0.09090909, 0.18181818, 0.27272727, 0.36363636, 0.45454545,\n",
       "       0.54545455, 0.63636364, 0.72727273, 0.81818182, 0.90909091])"
      ]
     },
     "execution_count": 116,
     "metadata": {},
     "output_type": "execute_result"
    }
   ],
   "source": [
    "# Needed answer for linspace function...generates numbers from one value to another evenly spaced. Take [1:] and you'll exclude starting value\n",
    "np.linspace(0,1,11,endpoint=False)[1:]"
   ]
  },
  {
   "cell_type": "code",
   "execution_count": 114,
   "id": "8faae131",
   "metadata": {},
   "outputs": [
    {
     "name": "stdout",
     "output_type": "stream",
     "text": [
      "Z = np.linspace(0,1,11,endpoint=False)[1:]\n",
      "print(Z)\n"
     ]
    }
   ],
   "source": [
    "answer(39)"
   ]
  },
  {
   "cell_type": "markdown",
   "id": "9b3cb8d2",
   "metadata": {},
   "source": [
    "#### 40. Create a random vector of size 10 and sort it (★★☆)"
   ]
  },
  {
   "cell_type": "code",
   "execution_count": 118,
   "id": "37d2b341",
   "metadata": {},
   "outputs": [
    {
     "data": {
      "text/plain": [
       "array([0.07391223, 0.26816722, 0.37900087, 0.40098381, 0.46764851,\n",
       "       0.51234794, 0.5363786 , 0.69069124, 0.88733012, 0.96324486])"
      ]
     },
     "execution_count": 118,
     "metadata": {},
     "output_type": "execute_result"
    }
   ],
   "source": [
    "# Needed nothing, can also call .sort()\n",
    "np.sort(np.random.random(10))"
   ]
  },
  {
   "cell_type": "markdown",
   "id": "2facfddc",
   "metadata": {},
   "source": [
    "#### 41. How to sum a small array faster than np.sum? (★★☆)"
   ]
  },
  {
   "cell_type": "code",
   "execution_count": 125,
   "id": "4bb8864f",
   "metadata": {},
   "outputs": [
    {
     "data": {
      "text/plain": [
       "3.8708620445852393"
      ]
     },
     "execution_count": 125,
     "metadata": {},
     "output_type": "execute_result"
    }
   ],
   "source": [
    "# Needed answer to know the .add.reduce paradigm...only works for smaller arrays\n",
    "a = np.random.random(5)\n",
    "np.add.reduce(a)"
   ]
  },
  {
   "cell_type": "code",
   "execution_count": 124,
   "id": "6e9079ed",
   "metadata": {},
   "outputs": [
    {
     "name": "stdout",
     "output_type": "stream",
     "text": [
      "# Author: Evgeni Burovski\n",
      "\n",
      "Z = np.arange(10)\n",
      "np.add.reduce(Z)\n"
     ]
    }
   ],
   "source": [
    "answer(41)"
   ]
  },
  {
   "cell_type": "markdown",
   "id": "539cd2a5",
   "metadata": {},
   "source": [
    "#### 42. Consider two random array A and B, check if they are equal (★★☆)"
   ]
  },
  {
   "cell_type": "code",
   "execution_count": 129,
   "id": "5246d7bf",
   "metadata": {},
   "outputs": [
    {
     "name": "stdout",
     "output_type": "stream",
     "text": [
      "[False False False False False]\n",
      "False\n",
      "False\n"
     ]
    }
   ],
   "source": [
    "# Had the .equal, but that returns a boolean array. Want just a boolean value so...\n",
    "# allclose -- meant to be used with floats, as very very small differences (usually precision loss) will not count as unequal\n",
    "# array_equal -- same as allclose, except they have to be exactly the same, meant to be used with ints\n",
    "a = np.random.random(5)\n",
    "b = np.random.random(5)\n",
    "\n",
    "print(np.equal(a,b))\n",
    "print(np.allclose(a,b))\n",
    "print(np.array_equal(a,b))"
   ]
  },
  {
   "cell_type": "code",
   "execution_count": 128,
   "id": "ff0a529c",
   "metadata": {},
   "outputs": [
    {
     "name": "stdout",
     "output_type": "stream",
     "text": [
      "A = np.random.randint(0,2,5)\n",
      "B = np.random.randint(0,2,5)\n",
      "\n",
      "# Assuming identical shape of the arrays and a tolerance for the comparison of values\n",
      "equal = np.allclose(A,B)\n",
      "print(equal)\n",
      "\n",
      "# Checking both the shape and the element values, no tolerance (values have to be exactly equal)\n",
      "equal = np.array_equal(A,B)\n",
      "print(equal)\n"
     ]
    }
   ],
   "source": [
    "answer(42)"
   ]
  },
  {
   "cell_type": "markdown",
   "id": "448f8274",
   "metadata": {},
   "source": [
    "#### 43. Make an array immutable (read-only) (★★☆)"
   ]
  },
  {
   "cell_type": "code",
   "execution_count": 131,
   "id": "7cf2b3dd",
   "metadata": {},
   "outputs": [
    {
     "ename": "ValueError",
     "evalue": "assignment destination is read-only",
     "output_type": "error",
     "traceback": [
      "\u001b[0;31m---------------------------------------------------------------------------\u001b[0m",
      "\u001b[0;31mValueError\u001b[0m                                Traceback (most recent call last)",
      "Input \u001b[0;32mIn [131]\u001b[0m, in \u001b[0;36m<cell line: 3>\u001b[0;34m()\u001b[0m\n\u001b[1;32m      1\u001b[0m Z \u001b[38;5;241m=\u001b[39m np\u001b[38;5;241m.\u001b[39mzeros(\u001b[38;5;241m10\u001b[39m)\n\u001b[1;32m      2\u001b[0m Z\u001b[38;5;241m.\u001b[39mflags\u001b[38;5;241m.\u001b[39mwriteable \u001b[38;5;241m=\u001b[39m \u001b[38;5;28;01mFalse\u001b[39;00m\n\u001b[0;32m----> 3\u001b[0m Z[\u001b[38;5;241m0\u001b[39m] \u001b[38;5;241m=\u001b[39m \u001b[38;5;241m1\u001b[39m\n",
      "\u001b[0;31mValueError\u001b[0m: assignment destination is read-only"
     ]
    }
   ],
   "source": [
    "# Needed answer to understand .flags.writeable\n",
    "Z = np.zeros(10)\n",
    "Z.flags.writeable = False\n",
    "Z[0] = 1"
   ]
  },
  {
   "cell_type": "markdown",
   "id": "d7b7aaf3",
   "metadata": {},
   "source": [
    "#### 44. Consider a random 10x2 matrix representing cartesian coordinates, convert them to polar coordinates (★★☆)"
   ]
  },
  {
   "cell_type": "code",
   "execution_count": 143,
   "id": "e2337585",
   "metadata": {},
   "outputs": [
    {
     "name": "stdout",
     "output_type": "stream",
     "text": [
      "[10.63014581  8.60232527  9.89949494  9.21954446  7.81024968  7.21110255\n",
      "  9.8488578   7.21110255  3.         12.04159458]\n",
      "[0.85196633 0.95054684 0.78539816 0.21866895 0.87605805 0.5880026\n",
      " 1.152572   0.98279372 0.         0.84415399]\n"
     ]
    }
   ],
   "source": [
    "# Needed to look up formula, then answer for the correct slicing and np.arctan2\n",
    "a = np.random.randint(0, 10, 20).reshape(10,2)\n",
    "X, Y = a[:,0], a[:,1]\n",
    "R = np.sqrt(X**2 + Y**2)\n",
    "T = np.arctan2(Y,X)\n",
    "print(R)\n",
    "print(T)"
   ]
  },
  {
   "cell_type": "code",
   "execution_count": 140,
   "id": "55a6072b",
   "metadata": {},
   "outputs": [
    {
     "name": "stdout",
     "output_type": "stream",
     "text": [
      "Z = np.random.random((10,2))\n",
      "X,Y = Z[:,0], Z[:,1]\n",
      "R = np.sqrt(X**2+Y**2)\n",
      "T = np.arctan2(Y,X)\n",
      "print(R)\n",
      "print(T)\n"
     ]
    }
   ],
   "source": [
    "answer(44)"
   ]
  },
  {
   "cell_type": "markdown",
   "id": "a556027a",
   "metadata": {},
   "source": [
    "#### 45. Create random vector of size 10 and replace the maximum value by 0 (★★☆)"
   ]
  },
  {
   "cell_type": "code",
   "execution_count": 148,
   "id": "9e07cb87",
   "metadata": {},
   "outputs": [
    {
     "name": "stdout",
     "output_type": "stream",
     "text": [
      "[0.4181966  0.14995245 0.0046121  0.72036899 0.75384886 0.62446441\n",
      " 0.8970497  0.         0.64659656 0.90693606]\n"
     ]
    }
   ],
   "source": [
    "# Needed hint for argmax\n",
    "a = np.random.random(10)\n",
    "a[np.argmax(a)] = 0\n",
    "print(a)"
   ]
  },
  {
   "cell_type": "code",
   "execution_count": 149,
   "id": "f4420fa4",
   "metadata": {},
   "outputs": [
    {
     "name": "stdout",
     "output_type": "stream",
     "text": [
      "Z = np.random.random(10)\n",
      "Z[Z.argmax()] = 0\n",
      "print(Z)\n"
     ]
    }
   ],
   "source": [
    "answer(45)"
   ]
  },
  {
   "cell_type": "markdown",
   "id": "004f3da1",
   "metadata": {},
   "source": [
    "#### 46. Create a structured array with `x` and `y` coordinates covering the [0,1]x[0,1] area (★★☆)"
   ]
  },
  {
   "cell_type": "code",
   "execution_count": 159,
   "id": "d4faf3d6",
   "metadata": {},
   "outputs": [
    {
     "name": "stdout",
     "output_type": "stream",
     "text": [
      "[[(0.  , 0.  ) (0.25, 0.  ) (0.5 , 0.  ) (0.75, 0.  ) (1.  , 0.  )]\n",
      " [(0.  , 0.25) (0.25, 0.25) (0.5 , 0.25) (0.75, 0.25) (1.  , 0.25)]\n",
      " [(0.  , 0.5 ) (0.25, 0.5 ) (0.5 , 0.5 ) (0.75, 0.5 ) (1.  , 0.5 )]\n",
      " [(0.  , 0.75) (0.25, 0.75) (0.5 , 0.75) (0.75, 0.75) (1.  , 0.75)]\n",
      " [(0.  , 1.  ) (0.25, 1.  ) (0.5 , 1.  ) (0.75, 1.  ) (1.  , 1.  )]]\n"
     ]
    }
   ],
   "source": [
    "# Needed answer for entire construction. Custom datatype, meshgrid with linspace\n",
    "a = np.zeros((5,5), [('x', float), ('y', float)])\n",
    "a['x'], a['y'] = np.meshgrid(np.linspace(0,1,5), np.linspace(0,1,5))\n",
    "print(a)"
   ]
  },
  {
   "cell_type": "code",
   "execution_count": 155,
   "id": "8e832fde",
   "metadata": {},
   "outputs": [
    {
     "name": "stdout",
     "output_type": "stream",
     "text": [
      "[[(0., 0.) (0., 0.) (0., 0.) (0., 0.) (0., 0.)]\n",
      " [(0., 0.) (0., 0.) (0., 0.) (0., 0.) (0., 0.)]\n",
      " [(0., 0.) (0., 0.) (0., 0.) (0., 0.) (0., 0.)]\n",
      " [(0., 0.) (0., 0.) (0., 0.) (0., 0.) (0., 0.)]\n",
      " [(0., 0.) (0., 0.) (0., 0.) (0., 0.) (0., 0.)]]\n"
     ]
    }
   ],
   "source": [
    "print(a)"
   ]
  },
  {
   "cell_type": "code",
   "execution_count": 153,
   "id": "b3824741",
   "metadata": {},
   "outputs": [
    {
     "name": "stdout",
     "output_type": "stream",
     "text": [
      "Z = np.zeros((5,5), [('x',float),('y',float)])\n",
      "Z['x'], Z['y'] = np.meshgrid(np.linspace(0,1,5),\n",
      "                             np.linspace(0,1,5))\n",
      "print(Z)\n"
     ]
    }
   ],
   "source": [
    "answer(46)"
   ]
  },
  {
   "cell_type": "markdown",
   "id": "1c0adc0d",
   "metadata": {},
   "source": [
    "#### 47. Given two arrays, X and Y, construct the Cauchy matrix C (Cij =1/(xi - yj)) (★★☆)"
   ]
  },
  {
   "cell_type": "code",
   "execution_count": 165,
   "id": "01b3bbb7",
   "metadata": {},
   "outputs": [
    {
     "name": "stdout",
     "output_type": "stream",
     "text": [
      "[0 1 2 3 4 5 6 7]\n",
      "[0.5 1.5 2.5 3.5 4.5 5.5 6.5 7.5]\n",
      "[[-2.         -0.66666667 -0.4        -0.28571429 -0.22222222 -0.18181818\n",
      "  -0.15384615 -0.13333333]\n",
      " [ 2.         -2.         -0.66666667 -0.4        -0.28571429 -0.22222222\n",
      "  -0.18181818 -0.15384615]\n",
      " [ 0.66666667  2.         -2.         -0.66666667 -0.4        -0.28571429\n",
      "  -0.22222222 -0.18181818]\n",
      " [ 0.4         0.66666667  2.         -2.         -0.66666667 -0.4\n",
      "  -0.28571429 -0.22222222]\n",
      " [ 0.28571429  0.4         0.66666667  2.         -2.         -0.66666667\n",
      "  -0.4        -0.28571429]\n",
      " [ 0.22222222  0.28571429  0.4         0.66666667  2.         -2.\n",
      "  -0.66666667 -0.4       ]\n",
      " [ 0.18181818  0.22222222  0.28571429  0.4         0.66666667  2.\n",
      "  -2.         -0.66666667]\n",
      " [ 0.15384615  0.18181818  0.22222222  0.28571429  0.4         0.66666667\n",
      "   2.         -2.        ]]\n",
      "3638.1636371179666\n"
     ]
    }
   ],
   "source": [
    "# Needed answer for the np.subtract.outer (a cartesian product of sorts) and the determinant\n",
    "X = np.arange(8)\n",
    "Y = X + 0.5\n",
    "C = 1.0 / np.subtract.outer(X,Y)\n",
    "print(X)\n",
    "print(Y)\n",
    "print(C)\n",
    "print(np.linalg.det(C))"
   ]
  },
  {
   "cell_type": "markdown",
   "id": "c8a2f65a",
   "metadata": {},
   "source": [
    "#### 48. Print the minimum and maximum representable value for each numpy scalar type (★★☆)"
   ]
  },
  {
   "cell_type": "code",
   "execution_count": 179,
   "id": "35d844d6",
   "metadata": {},
   "outputs": [
    {
     "name": "stdout",
     "output_type": "stream",
     "text": [
      "-128\n",
      "127\n",
      "-2147483648\n",
      "2147483647\n",
      "-9223372036854775808\n",
      "9223372036854775807\n",
      "-3.4028235e+38\n",
      "3.4028235e+38\n",
      "1.1920929e-07\n",
      "-1.7976931348623157e+308\n",
      "1.7976931348623157e+308\n",
      "2.220446049250313e-16\n"
     ]
    }
   ],
   "source": [
    "# Needed answer to know all of the different scalar types in numpy, as well as printing the information\n",
    "for dtype in [np.int8, np.int32, np.int64]:\n",
    "   print(np.iinfo(dtype).min)\n",
    "   print(np.iinfo(dtype).max)\n",
    "for dtype in [np.float32, np.float64]:\n",
    "   print(np.finfo(dtype).min)\n",
    "   print(np.finfo(dtype).max)\n",
    "   print(np.finfo(dtype).eps)"
   ]
  },
  {
   "cell_type": "code",
   "execution_count": 178,
   "id": "abaeb6f1",
   "metadata": {},
   "outputs": [
    {
     "name": "stdout",
     "output_type": "stream",
     "text": [
      "for dtype in [np.int8, np.int32, np.int64]:\n",
      "   print(np.iinfo(dtype).min)\n",
      "   print(np.iinfo(dtype).max)\n",
      "for dtype in [np.float32, np.float64]:\n",
      "   print(np.finfo(dtype).min)\n",
      "   print(np.finfo(dtype).max)\n",
      "   print(np.finfo(dtype).eps)\n"
     ]
    }
   ],
   "source": [
    "answer(48)"
   ]
  },
  {
   "cell_type": "markdown",
   "id": "11727a69",
   "metadata": {},
   "source": [
    "#### 49. How to print all the values of an array? (★★☆)"
   ]
  },
  {
   "cell_type": "code",
   "execution_count": 175,
   "id": "47e98473",
   "metadata": {
    "scrolled": true
   },
   "outputs": [
    {
     "name": "stdout",
     "output_type": "stream",
     "text": [
      "[   0    1    2    3    4    5    6    7    8    9   10   11   12   13\n",
      "   14   15   16   17   18   19   20   21   22   23   24   25   26   27\n",
      "   28   29   30   31   32   33   34   35   36   37   38   39   40   41\n",
      "   42   43   44   45   46   47   48   49   50   51   52   53   54   55\n",
      "   56   57   58   59   60   61   62   63   64   65   66   67   68   69\n",
      "   70   71   72   73   74   75   76   77   78   79   80   81   82   83\n",
      "   84   85   86   87   88   89   90   91   92   93   94   95   96   97\n",
      "   98   99  100  101  102  103  104  105  106  107  108  109  110  111\n",
      "  112  113  114  115  116  117  118  119  120  121  122  123  124  125\n",
      "  126  127  128  129  130  131  132  133  134  135  136  137  138  139\n",
      "  140  141  142  143  144  145  146  147  148  149  150  151  152  153\n",
      "  154  155  156  157  158  159  160  161  162  163  164  165  166  167\n",
      "  168  169  170  171  172  173  174  175  176  177  178  179  180  181\n",
      "  182  183  184  185  186  187  188  189  190  191  192  193  194  195\n",
      "  196  197  198  199  200  201  202  203  204  205  206  207  208  209\n",
      "  210  211  212  213  214  215  216  217  218  219  220  221  222  223\n",
      "  224  225  226  227  228  229  230  231  232  233  234  235  236  237\n",
      "  238  239  240  241  242  243  244  245  246  247  248  249  250  251\n",
      "  252  253  254  255  256  257  258  259  260  261  262  263  264  265\n",
      "  266  267  268  269  270  271  272  273  274  275  276  277  278  279\n",
      "  280  281  282  283  284  285  286  287  288  289  290  291  292  293\n",
      "  294  295  296  297  298  299  300  301  302  303  304  305  306  307\n",
      "  308  309  310  311  312  313  314  315  316  317  318  319  320  321\n",
      "  322  323  324  325  326  327  328  329  330  331  332  333  334  335\n",
      "  336  337  338  339  340  341  342  343  344  345  346  347  348  349\n",
      "  350  351  352  353  354  355  356  357  358  359  360  361  362  363\n",
      "  364  365  366  367  368  369  370  371  372  373  374  375  376  377\n",
      "  378  379  380  381  382  383  384  385  386  387  388  389  390  391\n",
      "  392  393  394  395  396  397  398  399  400  401  402  403  404  405\n",
      "  406  407  408  409  410  411  412  413  414  415  416  417  418  419\n",
      "  420  421  422  423  424  425  426  427  428  429  430  431  432  433\n",
      "  434  435  436  437  438  439  440  441  442  443  444  445  446  447\n",
      "  448  449  450  451  452  453  454  455  456  457  458  459  460  461\n",
      "  462  463  464  465  466  467  468  469  470  471  472  473  474  475\n",
      "  476  477  478  479  480  481  482  483  484  485  486  487  488  489\n",
      "  490  491  492  493  494  495  496  497  498  499  500  501  502  503\n",
      "  504  505  506  507  508  509  510  511  512  513  514  515  516  517\n",
      "  518  519  520  521  522  523  524  525  526  527  528  529  530  531\n",
      "  532  533  534  535  536  537  538  539  540  541  542  543  544  545\n",
      "  546  547  548  549  550  551  552  553  554  555  556  557  558  559\n",
      "  560  561  562  563  564  565  566  567  568  569  570  571  572  573\n",
      "  574  575  576  577  578  579  580  581  582  583  584  585  586  587\n",
      "  588  589  590  591  592  593  594  595  596  597  598  599  600  601\n",
      "  602  603  604  605  606  607  608  609  610  611  612  613  614  615\n",
      "  616  617  618  619  620  621  622  623  624  625  626  627  628  629\n",
      "  630  631  632  633  634  635  636  637  638  639  640  641  642  643\n",
      "  644  645  646  647  648  649  650  651  652  653  654  655  656  657\n",
      "  658  659  660  661  662  663  664  665  666  667  668  669  670  671\n",
      "  672  673  674  675  676  677  678  679  680  681  682  683  684  685\n",
      "  686  687  688  689  690  691  692  693  694  695  696  697  698  699\n",
      "  700  701  702  703  704  705  706  707  708  709  710  711  712  713\n",
      "  714  715  716  717  718  719  720  721  722  723  724  725  726  727\n",
      "  728  729  730  731  732  733  734  735  736  737  738  739  740  741\n",
      "  742  743  744  745  746  747  748  749  750  751  752  753  754  755\n",
      "  756  757  758  759  760  761  762  763  764  765  766  767  768  769\n",
      "  770  771  772  773  774  775  776  777  778  779  780  781  782  783\n",
      "  784  785  786  787  788  789  790  791  792  793  794  795  796  797\n",
      "  798  799  800  801  802  803  804  805  806  807  808  809  810  811\n",
      "  812  813  814  815  816  817  818  819  820  821  822  823  824  825\n",
      "  826  827  828  829  830  831  832  833  834  835  836  837  838  839\n",
      "  840  841  842  843  844  845  846  847  848  849  850  851  852  853\n",
      "  854  855  856  857  858  859  860  861  862  863  864  865  866  867\n",
      "  868  869  870  871  872  873  874  875  876  877  878  879  880  881\n",
      "  882  883  884  885  886  887  888  889  890  891  892  893  894  895\n",
      "  896  897  898  899  900  901  902  903  904  905  906  907  908  909\n",
      "  910  911  912  913  914  915  916  917  918  919  920  921  922  923\n",
      "  924  925  926  927  928  929  930  931  932  933  934  935  936  937\n",
      "  938  939  940  941  942  943  944  945  946  947  948  949  950  951\n",
      "  952  953  954  955  956  957  958  959  960  961  962  963  964  965\n",
      "  966  967  968  969  970  971  972  973  974  975  976  977  978  979\n",
      "  980  981  982  983  984  985  986  987  988  989  990  991  992  993\n",
      "  994  995  996  997  998  999 1000]\n"
     ]
    }
   ],
   "source": [
    "# Set_printoptions allows you to specify a max to be printed\n",
    "np.set_printoptions(threshold = float(\"inf\"))\n",
    "a = np.arange(1001)\n",
    "print(a)"
   ]
  },
  {
   "cell_type": "code",
   "execution_count": 171,
   "id": "16c08a01",
   "metadata": {},
   "outputs": [
    {
     "name": "stdout",
     "output_type": "stream",
     "text": [
      "np.set_printoptions(threshold=float(\"inf\"))\n",
      "Z = np.zeros((40,40))\n",
      "print(Z)\n"
     ]
    }
   ],
   "source": [
    "answer(49)"
   ]
  },
  {
   "cell_type": "markdown",
   "id": "e0e7d741",
   "metadata": {},
   "source": [
    "#### 50. How to find the closest value (to a given scalar) in a vector? (★★☆)"
   ]
  },
  {
   "cell_type": "code",
   "execution_count": 182,
   "id": "62cabf6f",
   "metadata": {},
   "outputs": [
    {
     "name": "stdout",
     "output_type": "stream",
     "text": [
      "[ 0  1  2  3  4  5  6  7  8  9 10 11 12 13 14 15 16 17 18 19 20 21 22 23\n",
      " 24 25 26 27 28 29 30 31 32 33 34 35 36 37 38 39 40 41 42 43 44 45 46 47\n",
      " 48 49 50 51 52 53 54 55 56 57 58 59 60 61 62 63 64 65 66 67 68 69 70 71\n",
      " 72 73 74 75 76 77 78 79 80 81 82 83 84 85 86 87 88 89 90 91 92 93 94 95\n",
      " 96 97 98 99]\n",
      "98.65052084083281\n",
      "99\n"
     ]
    }
   ],
   "source": [
    "# Subtract the scalar from every element in the array (using absolute value), and the one closest to zero \n",
    "# will be the one closest to the scalar\n",
    "Z = np.arange(100)\n",
    "v = np.random.uniform(0,100)\n",
    "index = (np.abs(Z-v)).argmin()\n",
    "print(Z[index])"
   ]
  },
  {
   "cell_type": "markdown",
   "id": "c5611b9e",
   "metadata": {},
   "source": [
    "#### 51. Create a structured array representing a position (x,y) and a color (r,g,b) (★★☆)"
   ]
  },
  {
   "cell_type": "code",
   "execution_count": 190,
   "id": "be9d4bcf",
   "metadata": {},
   "outputs": [
    {
     "name": "stdout",
     "output_type": "stream",
     "text": [
      "[((0., 0.), (0., 0., 0.)) ((0., 0.), (0., 0., 0.))\n",
      " ((0., 0.), (0., 0., 0.)) ((0., 0.), (0., 0., 0.))\n",
      " ((0., 0.), (0., 0., 0.)) ((0., 0.), (0., 0., 0.))\n",
      " ((0., 0.), (0., 0., 0.)) ((0., 0.), (0., 0., 0.))\n",
      " ((0., 0.), (0., 0., 0.)) ((0., 0.), (0., 0., 0.))]\n"
     ]
    },
    {
     "name": "stderr",
     "output_type": "stream",
     "text": [
      "/var/folders/nc/b18z63kd1x79rp0qghn10tv40000gn/T/ipykernel_72196/274409719.py:1: FutureWarning: Passing (type, 1) or '1type' as a synonym of type is deprecated; in a future version of numpy, it will be understood as (type, (1,)) / '(1,)type'.\n",
      "  Z = np.zeros(10, [ ('position', [ ('x', float, 1),\n"
     ]
    }
   ],
   "source": [
    "# Needed answer. Tried defining the dtype then applying it, but did not work\n",
    "Z = np.zeros(10, [ ('position', [ ('x', float, 1),\n",
    "                                  ('y', float, 1)]),\n",
    "                   ('color',    [ ('r', float, 1),\n",
    "                                  ('g', float, 1),\n",
    "                                  ('b', float, 1)])])\n",
    "print(Z)"
   ]
  },
  {
   "cell_type": "markdown",
   "id": "d22b8574",
   "metadata": {},
   "source": [
    "#### 52. Consider a random vector with shape (100,2) representing coordinates, find point by point distances (★★☆)"
   ]
  },
  {
   "cell_type": "code",
   "execution_count": 213,
   "id": "d5c9cdf8",
   "metadata": {
    "scrolled": true
   },
   "outputs": [],
   "source": [
    "# Needed answer, seems to be doing this for (10,2) rather than (100,2). \n",
    "# Running Euclidean distance and using the transposed arrays to broadcast (not sure if that is right term)\n",
    "Z = np.random.random((10,2))\n",
    "\n",
    "#X,Y = np.atleast_2d(Z[:,0], Z[:,1])\n",
    "#D = np.sqrt( (X-X.T)**2 + (Y-Y.T)**2)\n",
    "#print(D)"
   ]
  },
  {
   "cell_type": "code",
   "execution_count": 212,
   "id": "e310309f",
   "metadata": {},
   "outputs": [
    {
     "name": "stdout",
     "output_type": "stream",
     "text": [
      "[[0.         0.26115678 0.52081686 0.69760652 0.81334835 0.35727458\n",
      "  0.91886472 0.87103965 0.87672468 0.85609747]\n",
      " [0.26115678 0.         0.61264818 0.47083219 0.69123506 0.16193384\n",
      "  0.85006976 0.74728216 0.92238291 0.78808852]\n",
      " [0.52081686 0.61264818 0.         0.74427684 0.56821281 0.77284206\n",
      "  0.54239186 0.61197759 0.36249559 0.49230821]\n",
      " [0.69760652 0.47083219 0.74427684 0.         0.40364591 0.53301172\n",
      "  0.62488778 0.4386297  0.89127702 0.58069952]\n",
      " [0.81334835 0.69123506 0.56821281 0.40364591 0.         0.8191142\n",
      "  0.22320901 0.05777075 0.5551052  0.18850407]\n",
      " [0.35727458 0.16193384 0.77284206 0.53301172 0.8191142  0.\n",
      "  0.99355758 0.87288597 1.08380447 0.93278529]\n",
      " [0.91886472 0.85006976 0.54239186 0.62488778 0.22320901 0.99355758\n",
      "  0.         0.20598072 0.39160548 0.06312387]\n",
      " [0.87103965 0.74728216 0.61197759 0.4386297  0.05777075 0.87288597\n",
      "  0.20598072 0.         0.56775408 0.18749995]\n",
      " [0.87672468 0.92238291 0.36249559 0.89127702 0.5551052  1.08380447\n",
      "  0.39160548 0.56775408 0.         0.38274163]\n",
      " [0.85609747 0.78808852 0.49230821 0.58069952 0.18850407 0.93278529\n",
      "  0.06312387 0.18749995 0.38274163 0.        ]]\n"
     ]
    }
   ],
   "source": [
    "X, Y = np.atleast_2d(Z[:,0], Z[:, 1])\n",
    "D = np.sqrt( (X-X.T)**2 + (Y-Y.T)**2)\n",
    "print(D)"
   ]
  },
  {
   "cell_type": "markdown",
   "id": "f5c164f2",
   "metadata": {},
   "source": [
    "#### 53. How to convert a float (32 bits) array into an integer (32 bits) in place?"
   ]
  },
  {
   "cell_type": "code",
   "execution_count": 215,
   "id": "ea262de8",
   "metadata": {},
   "outputs": [
    {
     "data": {
      "text/plain": [
       "array([0, 1, 2, 3, 4, 5, 6, 7, 8, 9])"
      ]
     },
     "execution_count": 215,
     "metadata": {},
     "output_type": "execute_result"
    }
   ],
   "source": [
    "# Wrong way\n",
    "np.arange(10, dtype = \"float\").astype(\"int\")"
   ]
  },
  {
   "cell_type": "code",
   "execution_count": 220,
   "id": "c4676514",
   "metadata": {},
   "outputs": [
    {
     "name": "stdout",
     "output_type": "stream",
     "text": [
      "[66.08037  23.565792 86.638504 57.39125  39.520725 49.400887 33.76165\n",
      " 78.92034  57.97364  90.10572 ]\n",
      "[1115957542 1102874302 1118652138 1113952420 1109267769 1111857794\n",
      " 1107758062 1117640503 1114105090 1119106593]\n",
      "[66 23 86 57 39 49 33 78 57 90]\n"
     ]
    }
   ],
   "source": [
    "# Create a view with a different dtype, then copy the array in place to the view\n",
    "Z = (np.random.rand(10)*100).astype(np.float32)\n",
    "print(Z)\n",
    "Y = Z.view(np.int32)\n",
    "print(Y)\n",
    "Y[:] = Z\n",
    "print(Y)"
   ]
  },
  {
   "cell_type": "markdown",
   "id": "a8b7e6f5",
   "metadata": {},
   "source": [
    "#### 54. How to read the following file? (★★☆)\n",
    "```\n",
    "1, 2, 3, 4, 5\n",
    "6,  ,  , 7, 8\n",
    " ,  , 9,10,11\n",
    "```"
   ]
  },
  {
   "cell_type": "code",
   "execution_count": 223,
   "id": "bde0538a",
   "metadata": {},
   "outputs": [
    {
     "name": "stdout",
     "output_type": "stream",
     "text": [
      "from io import StringIO\n",
      "\n",
      "# Fake file\n",
      "s = StringIO('''1, 2, 3, 4, 5\n",
      "\n",
      "                6,  ,  , 7, 8\n",
      "\n",
      "                 ,  , 9,10,11\n",
      "''')\n",
      "Z = np.genfromtxt(s, delimiter=\",\", dtype=np.int)\n",
      "print(Z)\n"
     ]
    }
   ],
   "source": [
    "answer(54)"
   ]
  },
  {
   "cell_type": "markdown",
   "id": "c6b32834",
   "metadata": {},
   "source": [
    "#### 55. What is the equivalent of enumerate for numpy arrays? (★★☆)"
   ]
  },
  {
   "cell_type": "code",
   "execution_count": 231,
   "id": "ab02472a",
   "metadata": {},
   "outputs": [
    {
     "name": "stdout",
     "output_type": "stream",
     "text": [
      "(0, 0) 0.3550657754510289\n",
      "(0, 1) 0.28259725369347877\n",
      "(0, 2) 0.6550583372258866\n",
      "(1, 0) 0.9343116313587448\n",
      "(1, 1) 0.23592456606086198\n",
      "(1, 2) 0.04668651477447561\n",
      "(2, 0) 0.19417887739248896\n",
      "(2, 1) 0.5640680601090384\n",
      "(2, 2) 0.6514857263599507\n",
      "break\n",
      "(0, 0) 0.3550657754510289\n",
      "(0, 1) 0.28259725369347877\n",
      "(0, 2) 0.6550583372258866\n",
      "(1, 0) 0.9343116313587448\n",
      "(1, 1) 0.23592456606086198\n",
      "(1, 2) 0.04668651477447561\n",
      "(2, 0) 0.19417887739248896\n",
      "(2, 1) 0.5640680601090384\n",
      "(2, 2) 0.6514857263599507\n"
     ]
    }
   ],
   "source": [
    "# Needed answer for both functions here\n",
    "z = np.random.random(9).reshape(3,3)\n",
    "for index, x in np.ndenumerate(z):\n",
    "    print(index, x)\n",
    "print(\"break\")\n",
    "for index in np.ndindex(z.shape):\n",
    "    print(index, z[index])"
   ]
  },
  {
   "cell_type": "markdown",
   "id": "a2121a05",
   "metadata": {},
   "source": [
    "#### 56. Generate a generic 2D Gaussian-like array (★★☆)"
   ]
  },
  {
   "cell_type": "code",
   "execution_count": 238,
   "id": "18507102",
   "metadata": {},
   "outputs": [
    {
     "data": {
      "text/plain": [
       "array([[ 5.02705372,  2.83236676],\n",
       "       [ 3.01911464,  0.64997065],\n",
       "       [ 2.41577817,  3.10409433],\n",
       "       [ 0.40369131,  1.50428635],\n",
       "       [-0.73960099, -2.96108697]])"
      ]
     },
     "execution_count": 238,
     "metadata": {},
     "output_type": "execute_result"
    }
   ],
   "source": [
    "# My solution\n",
    "np.random.normal(loc = 1.0, scale = 2.0, size = 10).reshape(5,2)"
   ]
  },
  {
   "cell_type": "code",
   "execution_count": 240,
   "id": "ab25f472",
   "metadata": {},
   "outputs": [
    {
     "name": "stdout",
     "output_type": "stream",
     "text": [
      "[[0.36787944 0.44822088 0.51979489 0.57375342 0.60279818 0.60279818\n",
      "  0.57375342 0.51979489 0.44822088 0.36787944]\n",
      " [0.44822088 0.54610814 0.63331324 0.69905581 0.73444367 0.73444367\n",
      "  0.69905581 0.63331324 0.54610814 0.44822088]\n",
      " [0.51979489 0.63331324 0.73444367 0.81068432 0.85172308 0.85172308\n",
      "  0.81068432 0.73444367 0.63331324 0.51979489]\n",
      " [0.57375342 0.69905581 0.81068432 0.89483932 0.9401382  0.9401382\n",
      "  0.89483932 0.81068432 0.69905581 0.57375342]\n",
      " [0.60279818 0.73444367 0.85172308 0.9401382  0.98773022 0.98773022\n",
      "  0.9401382  0.85172308 0.73444367 0.60279818]\n",
      " [0.60279818 0.73444367 0.85172308 0.9401382  0.98773022 0.98773022\n",
      "  0.9401382  0.85172308 0.73444367 0.60279818]\n",
      " [0.57375342 0.69905581 0.81068432 0.89483932 0.9401382  0.9401382\n",
      "  0.89483932 0.81068432 0.69905581 0.57375342]\n",
      " [0.51979489 0.63331324 0.73444367 0.81068432 0.85172308 0.85172308\n",
      "  0.81068432 0.73444367 0.63331324 0.51979489]\n",
      " [0.44822088 0.54610814 0.63331324 0.69905581 0.73444367 0.73444367\n",
      "  0.69905581 0.63331324 0.54610814 0.44822088]\n",
      " [0.36787944 0.44822088 0.51979489 0.57375342 0.60279818 0.60279818\n",
      "  0.57375342 0.51979489 0.44822088 0.36787944]]\n"
     ]
    }
   ],
   "source": [
    "# The given solution\n",
    "X, Y = np.meshgrid(np.linspace(-1,1,10), np.linspace(-1,1,10))\n",
    "D = np.sqrt(X*X+Y*Y)\n",
    "sigma, mu = 1.0, 0.0\n",
    "G = np.exp(-( (D-mu)**2 / ( 2.0 * sigma**2 ) ) )\n",
    "print(G)"
   ]
  },
  {
   "cell_type": "markdown",
   "id": "97055efa",
   "metadata": {},
   "source": [
    "#### 57. How to randomly place p elements in a 2D array? (★★☆)"
   ]
  },
  {
   "cell_type": "code",
   "execution_count": 248,
   "id": "292e842f",
   "metadata": {},
   "outputs": [
    {
     "name": "stdout",
     "output_type": "stream",
     "text": [
      "# Author: Divakar\n",
      "\n",
      "n = 10\n",
      "p = 3\n",
      "Z = np.zeros((n,n))\n",
      "np.put(Z, np.random.choice(range(n*n), p, replace=False),1)\n",
      "print(Z)\n"
     ]
    }
   ],
   "source": [
    "answer(57)"
   ]
  },
  {
   "cell_type": "markdown",
   "id": "bfd2513c",
   "metadata": {},
   "source": [
    "#### 58. Subtract the mean of each row of a matrix (★★☆)"
   ]
  },
  {
   "cell_type": "code",
   "execution_count": 258,
   "id": "f306ab72",
   "metadata": {},
   "outputs": [
    {
     "name": "stdout",
     "output_type": "stream",
     "text": [
      "[[0.10863179 0.40411485]\n",
      " [0.3218916  0.84643624]\n",
      " [0.0834738  0.29997137]\n",
      " [0.72839604 0.19999314]\n",
      " [0.26212981 0.82920745]]\n",
      "[0.25637332 0.58416392 0.19172259 0.46419459 0.54566863]\n",
      "[[-0.14774153  0.14774153]\n",
      " [-0.26227232  0.26227232]\n",
      " [-0.10824879  0.10824879]\n",
      " [ 0.26420145 -0.26420145]\n",
      " [-0.28353882  0.28353882]]\n",
      "hint: mean(axis=,keepdims=)\n"
     ]
    }
   ],
   "source": [
    "# Needed hint. Keepdims will calculate the means as a 1-dim array, which will allow correct broadcasting\n",
    "a = np.random.random(10).reshape(5,2)\n",
    "print(a)\n",
    "print(a.mean(axis = 1))\n",
    "print(a - a.mean(axis = 1, keepdims =True))\n",
    "hint(58)"
   ]
  },
  {
   "cell_type": "markdown",
   "id": "da9f2f9b",
   "metadata": {},
   "source": [
    "#### 59. How to sort an array by the nth column? (★★☆)"
   ]
  },
  {
   "cell_type": "code",
   "execution_count": 269,
   "id": "68cde57f",
   "metadata": {},
   "outputs": [
    {
     "name": "stdout",
     "output_type": "stream",
     "text": [
      "[[0.96557432 0.87584102 0.88826059 0.05122016 0.94200569]\n",
      " [0.89055404 0.07513679 0.12985226 0.88404443 0.10262135]\n",
      " [0.41794645 0.05496808 0.15946174 0.39290183 0.06870683]\n",
      " [0.07430033 0.47382246 0.0981868  0.28170726 0.80606445]\n",
      " [0.13392976 0.51362345 0.99703946 0.76208667 0.1007156 ]\n",
      " [0.42496383 0.09929476 0.23505978 0.11425284 0.74144182]\n",
      " [0.64410851 0.15630955 0.18749677 0.35007299 0.21302937]\n",
      " [0.98894606 0.1290637  0.85890947 0.4866592  0.95107947]\n",
      " [0.60302313 0.38373849 0.47213054 0.80805077 0.93793326]\n",
      " [0.75172937 0.60721087 0.40910335 0.70867657 0.37326583]]\n",
      "[[0.07430033 0.47382246 0.0981868  0.28170726 0.80606445]\n",
      " [0.13392976 0.51362345 0.99703946 0.76208667 0.1007156 ]\n",
      " [0.41794645 0.05496808 0.15946174 0.39290183 0.06870683]\n",
      " [0.42496383 0.09929476 0.23505978 0.11425284 0.74144182]\n",
      " [0.60302313 0.38373849 0.47213054 0.80805077 0.93793326]\n",
      " [0.64410851 0.15630955 0.18749677 0.35007299 0.21302937]\n",
      " [0.75172937 0.60721087 0.40910335 0.70867657 0.37326583]\n",
      " [0.89055404 0.07513679 0.12985226 0.88404443 0.10262135]\n",
      " [0.96557432 0.87584102 0.88826059 0.05122016 0.94200569]\n",
      " [0.98894606 0.1290637  0.85890947 0.4866592  0.95107947]]\n"
     ]
    }
   ],
   "source": [
    "# Needed answer to get it right\n",
    "a = np.random.random(50).reshape(10, 5)\n",
    "print(a)\n",
    "print(a[a[:,0].argsort()])"
   ]
  },
  {
   "cell_type": "markdown",
   "id": "5b7be45c",
   "metadata": {},
   "source": [
    "#### 60. How to tell if a given 2D array has null columns? (★★☆)"
   ]
  },
  {
   "cell_type": "code",
   "execution_count": 277,
   "id": "7dbe2c27",
   "metadata": {},
   "outputs": [
    {
     "name": "stdout",
     "output_type": "stream",
     "text": [
      "[[0 0 1 2 0 2 0 0 0 0]\n",
      " [1 1 2 1 0 0 1 1 0 1]\n",
      " [0 1 0 1 0 1 0 1 1 0]]\n",
      "False\n"
     ]
    }
   ],
   "source": [
    "# Needed answer\n",
    "z = np.random.randint(0,3,(3,10))\n",
    "print(z)\n",
    "print(~z.any(axis = 0).any())"
   ]
  },
  {
   "cell_type": "code",
   "execution_count": 274,
   "id": "cd454dd5",
   "metadata": {},
   "outputs": [
    {
     "name": "stdout",
     "output_type": "stream",
     "text": [
      "# Author: Warren Weckesser\n",
      "\n",
      "# null : 0 \n",
      "Z = np.random.randint(0,3,(3,10))\n",
      "print((~Z.any(axis=0)).any())\n",
      "\n",
      "# null : np.nan\n",
      "Z=np.array([\n",
      "    [0,1,np.nan],\n",
      "    [1,2,np.nan],\n",
      "    [4,5,np.nan]\n",
      "])\n",
      "print(np.isnan(Z).all(axis=0))\n"
     ]
    }
   ],
   "source": [
    "answer(60)"
   ]
  },
  {
   "cell_type": "markdown",
   "id": "7c18c02e",
   "metadata": {},
   "source": [
    "#### 61. Find the nearest value from a given value in an array (★★☆)"
   ]
  },
  {
   "cell_type": "code",
   "execution_count": 284,
   "id": "b78ae9c4",
   "metadata": {},
   "outputs": [
    {
     "name": "stdout",
     "output_type": "stream",
     "text": [
      "[0.36161825 0.96089092 0.3913883  0.46343334 0.91819753 0.62604653\n",
      " 0.847044   0.83445136 0.83497751 0.05151815]\n"
     ]
    },
    {
     "data": {
      "text/plain": [
       "0.9608909192768456"
      ]
     },
     "execution_count": 284,
     "metadata": {},
     "output_type": "execute_result"
    }
   ],
   "source": [
    "# Did not need answer, though np.ndarray.flat would work for any dimensions\n",
    "a = np.random.random(10)\n",
    "print(a)\n",
    "a[np.argmin(abs(a - 1))]"
   ]
  },
  {
   "cell_type": "code",
   "execution_count": 287,
   "id": "9211b76b",
   "metadata": {},
   "outputs": [
    {
     "name": "stdout",
     "output_type": "stream",
     "text": [
      "0.9608909192768456\n"
     ]
    }
   ],
   "source": [
    "z = 1\n",
    "m = a.flat[np.abs(a - z).argmin()]\n",
    "print(m)"
   ]
  },
  {
   "cell_type": "markdown",
   "id": "8174ba2c",
   "metadata": {},
   "source": [
    "#### 62. Considering two arrays with shape (1,3) and (3,1), how to compute their sum using an iterator? (★★☆)"
   ]
  },
  {
   "cell_type": "code",
   "execution_count": 294,
   "id": "8a18fe57",
   "metadata": {},
   "outputs": [
    {
     "name": "stdout",
     "output_type": "stream",
     "text": [
      "[1 2 3]\n",
      "[[1 2 3]]\n"
     ]
    },
    {
     "data": {
      "text/plain": [
       "array([[2, 4, 6]])"
      ]
     },
     "execution_count": 294,
     "metadata": {},
     "output_type": "execute_result"
    }
   ],
   "source": [
    "# Needed answer to understand the np.nditer paradigm. Looked at documentation as well on numpy.org\n",
    "a = np.array([1,2,3])\n",
    "b = np.array([[1,2,3]])\n",
    "\n",
    "print(a)\n",
    "print(b)\n",
    "\n",
    "np.nditer(a) + b"
   ]
  },
  {
   "cell_type": "code",
   "execution_count": 300,
   "id": "fc530b18",
   "metadata": {},
   "outputs": [
    {
     "name": "stdout",
     "output_type": "stream",
     "text": [
      "[[2 4 6]]\n"
     ]
    }
   ],
   "source": [
    "it = np.nditer([a,b,None])\n",
    "for x, y, z in it:\n",
    "    z[...] = x + y\n",
    "print(it.operands[2])"
   ]
  },
  {
   "cell_type": "code",
   "execution_count": 298,
   "id": "f4ad5e5d",
   "metadata": {},
   "outputs": [
    {
     "name": "stdout",
     "output_type": "stream",
     "text": [
      "A = np.arange(3).reshape(3,1)\n",
      "B = np.arange(3).reshape(1,3)\n",
      "it = np.nditer([A,B,None])\n",
      "for x,y,z in it: z[...] = x + y\n",
      "print(it.operands[2])\n"
     ]
    }
   ],
   "source": [
    "answer(62)"
   ]
  },
  {
   "cell_type": "markdown",
   "id": "9189bd7c",
   "metadata": {},
   "source": [
    "#### 63. Create an array class that has a name attribute (★★☆)"
   ]
  },
  {
   "cell_type": "code",
   "execution_count": 306,
   "id": "1c01ed42",
   "metadata": {},
   "outputs": [
    {
     "name": "stdout",
     "output_type": "stream",
     "text": [
      "range_10\n"
     ]
    }
   ],
   "source": [
    "# Needed answer to understand using __new__ and __array_finalize__ rather than __init__\n",
    "class my_array(np.ndarray):\n",
    "    \n",
    "    def __new__(cls, array, name):\n",
    "        obj = np.asarray(array).view(cls)\n",
    "        obj.name = name\n",
    "        return obj\n",
    "    \n",
    "    def __array_finalize__(self, obj):\n",
    "        if obj is None: return\n",
    "        self.name = getattr(obj, 'name', 'no name')\n",
    "\n",
    "z = my_array(np.arange(10), \"range_10\")\n",
    "print(z.name)       \n",
    "        "
   ]
  },
  {
   "cell_type": "code",
   "execution_count": 302,
   "id": "f16d3cc5",
   "metadata": {},
   "outputs": [
    {
     "name": "stdout",
     "output_type": "stream",
     "text": [
      "class NamedArray(np.ndarray):\n",
      "    def __new__(cls, array, name=\"no name\"):\n",
      "        obj = np.asarray(array).view(cls)\n",
      "        obj.name = name\n",
      "        return obj\n",
      "    def __array_finalize__(self, obj):\n",
      "        if obj is None: return\n",
      "        self.name = getattr(obj, 'name', \"no name\")\n",
      "\n",
      "Z = NamedArray(np.arange(10), \"range_10\")\n",
      "print (Z.name)\n"
     ]
    }
   ],
   "source": [
    "answer(63)"
   ]
  },
  {
   "cell_type": "markdown",
   "id": "2936eaf9",
   "metadata": {},
   "source": [
    "## Started with hint and answer for all 3 star questions. "
   ]
  },
  {
   "cell_type": "markdown",
   "id": "f30162d2",
   "metadata": {},
   "source": [
    "#### 64. Consider a given vector, how to add 1 to each element indexed by a second vector (be careful with repeated indices)? (★★★)"
   ]
  },
  {
   "cell_type": "code",
   "execution_count": 317,
   "id": "093ba36f",
   "metadata": {},
   "outputs": [
    {
     "name": "stdout",
     "output_type": "stream",
     "text": [
      "# Author: Brett Olsen\n",
      "\n",
      "Z = np.ones(10)\n",
      "I = np.random.randint(0,len(Z),20)\n",
      "Z += np.bincount(I, minlength=len(Z))\n",
      "print(Z)\n",
      "\n",
      "# Another solution\n",
      "# Author: Bartosz Telenczuk\n",
      "np.add.at(Z, I, 1)\n",
      "print(Z)\n"
     ]
    }
   ],
   "source": [
    "answer(64)"
   ]
  },
  {
   "cell_type": "markdown",
   "id": "f5b1c584",
   "metadata": {},
   "source": [
    "#### 65. How to accumulate elements of a vector (X) to an array (F) based on an index list (I)? (★★★)"
   ]
  },
  {
   "cell_type": "code",
   "execution_count": null,
   "id": "c9d92a75",
   "metadata": {},
   "outputs": [],
   "source": []
  },
  {
   "cell_type": "markdown",
   "id": "994c452d",
   "metadata": {},
   "source": [
    "#### 66. Considering a (w,h,3) image of (dtype=ubyte), compute the number of unique colors (★★☆)"
   ]
  },
  {
   "cell_type": "code",
   "execution_count": null,
   "id": "269cdaea",
   "metadata": {},
   "outputs": [],
   "source": []
  },
  {
   "cell_type": "markdown",
   "id": "4bddeb31",
   "metadata": {},
   "source": [
    "#### 67. Considering a four dimensions array, how to get sum over the last two axis at once? (★★★)"
   ]
  },
  {
   "cell_type": "code",
   "execution_count": 315,
   "id": "32af15f5",
   "metadata": {},
   "outputs": [
    {
     "name": "stdout",
     "output_type": "stream",
     "text": [
      "[[[[0.77961052 0.06421169 0.51949153]\n",
      "   [0.06773431 0.04438327 0.05613875]]\n",
      "\n",
      "  [[0.25589436 0.67599267 0.92072989]\n",
      "   [0.18897739 0.69366174 0.30401675]]]\n",
      "\n",
      "\n",
      " [[[0.44680854 0.44388187 0.4560364 ]\n",
      "   [0.33683115 0.86579159 0.68528198]]\n",
      "\n",
      "  [[0.99703682 0.0223705  0.62757466]\n",
      "   [0.83574707 0.54855566 0.52332441]]]]\n"
     ]
    },
    {
     "data": {
      "text/plain": [
       "array([[1.53157006, 3.0392728 ],\n",
       "       [3.23463154, 3.55460912]])"
      ]
     },
     "execution_count": 315,
     "metadata": {},
     "output_type": "execute_result"
    }
   ],
   "source": [
    "# Needed answer\n",
    "a = np.random.random(24).reshape(2,2,2,3)\n",
    "print(a)\n",
    "a.sum(axis = (-2,-1))"
   ]
  },
  {
   "cell_type": "code",
   "execution_count": 316,
   "id": "d3c8599a",
   "metadata": {},
   "outputs": [
    {
     "name": "stdout",
     "output_type": "stream",
     "text": [
      "A = np.random.randint(0,10,(3,4,3,4))\n",
      "# solution by passing a tuple of axes (introduced in numpy 1.7.0)\n",
      "sum = A.sum(axis=(-2,-1))\n",
      "print(sum)\n",
      "# solution by flattening the last two dimensions into one\n",
      "# (useful for functions that don't accept tuples for axis argument)\n",
      "sum = A.reshape(A.shape[:-2] + (-1,)).sum(axis=-1)\n",
      "print(sum)\n"
     ]
    }
   ],
   "source": [
    "answer(67)"
   ]
  },
  {
   "cell_type": "markdown",
   "id": "c4cf083c",
   "metadata": {},
   "source": [
    "#### 68. Considering a one-dimensional vector D, how to compute means of subsets of D using a vector S of same size describing subset  indices? (★★★)"
   ]
  },
  {
   "cell_type": "code",
   "execution_count": null,
   "id": "9600a2dd",
   "metadata": {},
   "outputs": [],
   "source": []
  },
  {
   "cell_type": "markdown",
   "id": "a5e316db",
   "metadata": {},
   "source": [
    "#### 69. How to get the diagonal of a dot product? (★★★)"
   ]
  },
  {
   "cell_type": "code",
   "execution_count": null,
   "id": "94735dbd",
   "metadata": {},
   "outputs": [],
   "source": []
  },
  {
   "cell_type": "markdown",
   "id": "de727a7b",
   "metadata": {},
   "source": [
    "#### 70. Consider the vector [1, 2, 3, 4, 5], how to build a new vector with 3 consecutive zeros interleaved between each value? (★★★)"
   ]
  },
  {
   "cell_type": "code",
   "execution_count": null,
   "id": "982be812",
   "metadata": {},
   "outputs": [],
   "source": []
  },
  {
   "cell_type": "markdown",
   "id": "a9a73d6b",
   "metadata": {},
   "source": [
    "#### 71. Consider an array of dimension (5,5,3), how to mulitply it by an array with dimensions (5,5)? (★★★)"
   ]
  },
  {
   "cell_type": "code",
   "execution_count": null,
   "id": "282a90cc",
   "metadata": {},
   "outputs": [],
   "source": []
  },
  {
   "cell_type": "markdown",
   "id": "a951c78f",
   "metadata": {},
   "source": [
    "#### 72. How to swap two rows of an array? (★★★)"
   ]
  },
  {
   "cell_type": "code",
   "execution_count": null,
   "id": "e29b3fde",
   "metadata": {},
   "outputs": [],
   "source": []
  },
  {
   "cell_type": "markdown",
   "id": "43b639e8",
   "metadata": {},
   "source": [
    "#### 73. Consider a set of 10 triplets describing 10 triangles (with shared vertices), find the set of unique line segments composing all the  triangles (★★★)"
   ]
  },
  {
   "cell_type": "code",
   "execution_count": null,
   "id": "147e1034",
   "metadata": {},
   "outputs": [],
   "source": []
  },
  {
   "cell_type": "markdown",
   "id": "d41de585",
   "metadata": {},
   "source": [
    "#### 74. Given a sorted array C that corresponds to a bincount, how to produce an array A such that np.bincount(A) == C? (★★★)"
   ]
  },
  {
   "cell_type": "code",
   "execution_count": null,
   "id": "5f5d6e36",
   "metadata": {},
   "outputs": [],
   "source": []
  },
  {
   "cell_type": "markdown",
   "id": "b50adf7c",
   "metadata": {},
   "source": [
    "#### 75. How to compute averages using a sliding window over an array? (★★★)"
   ]
  },
  {
   "cell_type": "code",
   "execution_count": null,
   "id": "e631a9d2",
   "metadata": {},
   "outputs": [],
   "source": []
  },
  {
   "cell_type": "markdown",
   "id": "1ab4c50d",
   "metadata": {},
   "source": [
    "#### 76. Consider a one-dimensional array Z, build a two-dimensional array whose first row is (Z[0],Z[1],Z[2]) and each subsequent row is  shifted by 1 (last row should be (Z[-3],Z[-2],Z[-1]) (★★★)"
   ]
  },
  {
   "cell_type": "code",
   "execution_count": null,
   "id": "3ccfe2c0",
   "metadata": {},
   "outputs": [],
   "source": []
  },
  {
   "cell_type": "markdown",
   "id": "5b4fe59d",
   "metadata": {},
   "source": [
    "#### 77. How to negate a boolean, or to change the sign of a float inplace? (★★★)"
   ]
  },
  {
   "cell_type": "code",
   "execution_count": null,
   "id": "3c2373ff",
   "metadata": {},
   "outputs": [],
   "source": []
  },
  {
   "cell_type": "markdown",
   "id": "119ab5af",
   "metadata": {},
   "source": [
    "#### 78. Consider 2 sets of points P0,P1 describing lines (2d) and a point p, how to compute distance from p to each line i (P0[i],P1[i])? (★★★)"
   ]
  },
  {
   "cell_type": "code",
   "execution_count": null,
   "id": "1d8d06dc",
   "metadata": {},
   "outputs": [],
   "source": []
  },
  {
   "cell_type": "markdown",
   "id": "e5e7f323",
   "metadata": {},
   "source": [
    "#### 79. Consider 2 sets of points P0,P1 describing lines (2d) and a set of points P, how to compute distance from each point j (P[j]) to each line i (P0[i],P1[i])? (★★★)"
   ]
  },
  {
   "cell_type": "code",
   "execution_count": null,
   "id": "d0ce77e2",
   "metadata": {},
   "outputs": [],
   "source": []
  },
  {
   "cell_type": "markdown",
   "id": "9b9d03eb",
   "metadata": {},
   "source": [
    "#### 80. Consider an arbitrary array, write a function that extract a subpart with a fixed shape and centered on a given element (pad with a `fill` value when necessary) (★★★)"
   ]
  },
  {
   "cell_type": "code",
   "execution_count": null,
   "id": "ec2b7ae3",
   "metadata": {},
   "outputs": [],
   "source": []
  },
  {
   "cell_type": "markdown",
   "id": "27794913",
   "metadata": {},
   "source": [
    "#### 81. Consider an array Z = [1,2,3,4,5,6,7,8,9,10,11,12,13,14], how to generate an array R = [[1,2,3,4], [2,3,4,5], [3,4,5,6], ..., [11,12,13,14]]? (★★★)"
   ]
  },
  {
   "cell_type": "code",
   "execution_count": null,
   "id": "f3e7878b",
   "metadata": {},
   "outputs": [],
   "source": []
  },
  {
   "cell_type": "markdown",
   "id": "fae786f5",
   "metadata": {},
   "source": [
    "#### 82. Compute a matrix rank (★★★)"
   ]
  },
  {
   "cell_type": "code",
   "execution_count": null,
   "id": "64b9615b",
   "metadata": {},
   "outputs": [],
   "source": []
  },
  {
   "cell_type": "markdown",
   "id": "c85aa0b9",
   "metadata": {},
   "source": [
    "#### 83. How to find the most frequent value in an array?"
   ]
  },
  {
   "cell_type": "code",
   "execution_count": null,
   "id": "056be85b",
   "metadata": {},
   "outputs": [],
   "source": []
  },
  {
   "cell_type": "markdown",
   "id": "0ff2344d",
   "metadata": {},
   "source": [
    "#### 84. Extract all the contiguous 3x3 blocks from a random 10x10 matrix (★★★)"
   ]
  },
  {
   "cell_type": "code",
   "execution_count": null,
   "id": "d58b1318",
   "metadata": {},
   "outputs": [],
   "source": []
  },
  {
   "cell_type": "markdown",
   "id": "1a18b263",
   "metadata": {},
   "source": [
    "#### 85. Create a 2D array subclass such that Z[i,j] == Z[j,i] (★★★)"
   ]
  },
  {
   "cell_type": "code",
   "execution_count": null,
   "id": "87f17adc",
   "metadata": {},
   "outputs": [],
   "source": []
  },
  {
   "cell_type": "markdown",
   "id": "f85f2cad",
   "metadata": {},
   "source": [
    "#### 86. Consider a set of p matrices wich shape (n,n) and a set of p vectors with shape (n,1). How to compute the sum of of the p matrix products at once? (result has shape (n,1)) (★★★)"
   ]
  },
  {
   "cell_type": "code",
   "execution_count": null,
   "id": "8d230557",
   "metadata": {},
   "outputs": [],
   "source": []
  },
  {
   "cell_type": "markdown",
   "id": "5afb72c8",
   "metadata": {},
   "source": [
    "#### 87. Consider a 16x16 array, how to get the block-sum (block size is 4x4)? (★★★)"
   ]
  },
  {
   "cell_type": "code",
   "execution_count": null,
   "id": "e86f47a9",
   "metadata": {},
   "outputs": [],
   "source": []
  },
  {
   "cell_type": "markdown",
   "id": "6094d37c",
   "metadata": {},
   "source": [
    "#### 88. How to implement the Game of Life using numpy arrays? (★★★)"
   ]
  },
  {
   "cell_type": "code",
   "execution_count": null,
   "id": "a93e715f",
   "metadata": {},
   "outputs": [],
   "source": []
  },
  {
   "cell_type": "markdown",
   "id": "a173cf96",
   "metadata": {},
   "source": [
    "#### 89. How to get the n largest values of an array (★★★)"
   ]
  },
  {
   "cell_type": "code",
   "execution_count": null,
   "id": "b7c2ff35",
   "metadata": {},
   "outputs": [],
   "source": []
  },
  {
   "cell_type": "markdown",
   "id": "15db2d01",
   "metadata": {},
   "source": [
    "#### 90. Given an arbitrary number of vectors, build the cartesian product (every combinations of every item) (★★★)"
   ]
  },
  {
   "cell_type": "code",
   "execution_count": null,
   "id": "a9a4633d",
   "metadata": {},
   "outputs": [],
   "source": []
  },
  {
   "cell_type": "markdown",
   "id": "5d94d1ef",
   "metadata": {},
   "source": [
    "#### 91. How to create a record array from a regular array? (★★★)"
   ]
  },
  {
   "cell_type": "code",
   "execution_count": null,
   "id": "b1dae380",
   "metadata": {},
   "outputs": [],
   "source": []
  },
  {
   "cell_type": "markdown",
   "id": "114ccc36",
   "metadata": {},
   "source": [
    "#### 92. Consider a large vector Z, compute Z to the power of 3 using 3 different methods (★★★)"
   ]
  },
  {
   "cell_type": "code",
   "execution_count": null,
   "id": "877c65d6",
   "metadata": {},
   "outputs": [],
   "source": []
  },
  {
   "cell_type": "markdown",
   "id": "d614fee4",
   "metadata": {},
   "source": [
    "#### 93. Consider two arrays A and B of shape (8,3) and (2,2). How to find rows of A that contain elements of each row of B regardless of the order of the elements in B? (★★★)"
   ]
  },
  {
   "cell_type": "code",
   "execution_count": null,
   "id": "e6807a84",
   "metadata": {},
   "outputs": [],
   "source": []
  },
  {
   "cell_type": "markdown",
   "id": "b0eedca6",
   "metadata": {},
   "source": [
    "#### 94. Considering a 10x3 matrix, extract rows with unequal values (e.g. [2,2,3]) (★★★)"
   ]
  },
  {
   "cell_type": "code",
   "execution_count": null,
   "id": "fc136ce2",
   "metadata": {},
   "outputs": [],
   "source": []
  },
  {
   "cell_type": "markdown",
   "id": "a65ec1cf",
   "metadata": {},
   "source": [
    "#### 95. Convert a vector of ints into a matrix binary representation (★★★)"
   ]
  },
  {
   "cell_type": "code",
   "execution_count": null,
   "id": "323cdf4c",
   "metadata": {},
   "outputs": [],
   "source": []
  },
  {
   "cell_type": "markdown",
   "id": "75b9397f",
   "metadata": {},
   "source": [
    "#### 96. Given a two dimensional array, how to extract unique rows? (★★★)"
   ]
  },
  {
   "cell_type": "code",
   "execution_count": null,
   "id": "9bb56a47",
   "metadata": {},
   "outputs": [],
   "source": []
  },
  {
   "cell_type": "markdown",
   "id": "82aaf21b",
   "metadata": {},
   "source": [
    "#### 97. Considering 2 vectors A & B, write the einsum equivalent of inner, outer, sum, and mul function (★★★)"
   ]
  },
  {
   "cell_type": "code",
   "execution_count": 308,
   "id": "cedcefd9",
   "metadata": {},
   "outputs": [
    {
     "ename": "TypeError",
     "evalue": "each subscript must be either an integer or an ellipsis",
     "output_type": "error",
     "traceback": [
      "\u001b[0;31m---------------------------------------------------------------------------\u001b[0m",
      "\u001b[0;31mTypeError\u001b[0m                                 Traceback (most recent call last)",
      "Input \u001b[0;32mIn [308]\u001b[0m, in \u001b[0;36m<cell line: 4>\u001b[0;34m()\u001b[0m\n\u001b[1;32m      1\u001b[0m a \u001b[38;5;241m=\u001b[39m np\u001b[38;5;241m.\u001b[39mrandom\u001b[38;5;241m.\u001b[39mrandom(\u001b[38;5;241m10\u001b[39m)\n\u001b[1;32m      2\u001b[0m b \u001b[38;5;241m=\u001b[39m np\u001b[38;5;241m.\u001b[39mrandom\u001b[38;5;241m.\u001b[39mrandom(\u001b[38;5;241m10\u001b[39m)\n\u001b[0;32m----> 4\u001b[0m \u001b[43mnp\u001b[49m\u001b[38;5;241;43m.\u001b[39;49m\u001b[43meinsum\u001b[49m\u001b[43m(\u001b[49m\u001b[43ma\u001b[49m\u001b[43m,\u001b[49m\u001b[43mb\u001b[49m\u001b[43m)\u001b[49m\n\u001b[1;32m      6\u001b[0m hint(\u001b[38;5;241m97\u001b[39m)\n",
      "File \u001b[0;32m<__array_function__ internals>:180\u001b[0m, in \u001b[0;36meinsum\u001b[0;34m(*args, **kwargs)\u001b[0m\n",
      "File \u001b[0;32m~/opt/miniconda3/lib/python3.9/site-packages/numpy/core/einsumfunc.py:1359\u001b[0m, in \u001b[0;36meinsum\u001b[0;34m(out, optimize, *operands, **kwargs)\u001b[0m\n\u001b[1;32m   1357\u001b[0m     \u001b[38;5;28;01mif\u001b[39;00m specified_out:\n\u001b[1;32m   1358\u001b[0m         kwargs[\u001b[38;5;124m'\u001b[39m\u001b[38;5;124mout\u001b[39m\u001b[38;5;124m'\u001b[39m] \u001b[38;5;241m=\u001b[39m out\n\u001b[0;32m-> 1359\u001b[0m     \u001b[38;5;28;01mreturn\u001b[39;00m \u001b[43mc_einsum\u001b[49m\u001b[43m(\u001b[49m\u001b[38;5;241;43m*\u001b[39;49m\u001b[43moperands\u001b[49m\u001b[43m,\u001b[49m\u001b[43m \u001b[49m\u001b[38;5;241;43m*\u001b[39;49m\u001b[38;5;241;43m*\u001b[39;49m\u001b[43mkwargs\u001b[49m\u001b[43m)\u001b[49m\n\u001b[1;32m   1361\u001b[0m \u001b[38;5;66;03m# Check the kwargs to avoid a more cryptic error later, without having to\u001b[39;00m\n\u001b[1;32m   1362\u001b[0m \u001b[38;5;66;03m# repeat default values here\u001b[39;00m\n\u001b[1;32m   1363\u001b[0m valid_einsum_kwargs \u001b[38;5;241m=\u001b[39m [\u001b[38;5;124m'\u001b[39m\u001b[38;5;124mdtype\u001b[39m\u001b[38;5;124m'\u001b[39m, \u001b[38;5;124m'\u001b[39m\u001b[38;5;124morder\u001b[39m\u001b[38;5;124m'\u001b[39m, \u001b[38;5;124m'\u001b[39m\u001b[38;5;124mcasting\u001b[39m\u001b[38;5;124m'\u001b[39m]\n",
      "\u001b[0;31mTypeError\u001b[0m: each subscript must be either an integer or an ellipsis"
     ]
    }
   ],
   "source": [
    "a = np.random.random(10)\n",
    "b = np.random.random(10)\n",
    "\n",
    "np.einsum(a,b)\n",
    "\n",
    "hint(97)"
   ]
  },
  {
   "cell_type": "code",
   "execution_count": 309,
   "id": "03f031e3",
   "metadata": {},
   "outputs": [
    {
     "name": "stdout",
     "output_type": "stream",
     "text": [
      "Help on function einsum in module numpy:\n",
      "\n",
      "einsum(*operands, out=None, optimize=False, **kwargs)\n",
      "    einsum(subscripts, *operands, out=None, dtype=None, order='K',\n",
      "           casting='safe', optimize=False)\n",
      "    \n",
      "    Evaluates the Einstein summation convention on the operands.\n",
      "    \n",
      "    Using the Einstein summation convention, many common multi-dimensional,\n",
      "    linear algebraic array operations can be represented in a simple fashion.\n",
      "    In *implicit* mode `einsum` computes these values.\n",
      "    \n",
      "    In *explicit* mode, `einsum` provides further flexibility to compute\n",
      "    other array operations that might not be considered classical Einstein\n",
      "    summation operations, by disabling, or forcing summation over specified\n",
      "    subscript labels.\n",
      "    \n",
      "    See the notes and examples for clarification.\n",
      "    \n",
      "    Parameters\n",
      "    ----------\n",
      "    subscripts : str\n",
      "        Specifies the subscripts for summation as comma separated list of\n",
      "        subscript labels. An implicit (classical Einstein summation)\n",
      "        calculation is performed unless the explicit indicator '->' is\n",
      "        included as well as subscript labels of the precise output form.\n",
      "    operands : list of array_like\n",
      "        These are the arrays for the operation.\n",
      "    out : ndarray, optional\n",
      "        If provided, the calculation is done into this array.\n",
      "    dtype : {data-type, None}, optional\n",
      "        If provided, forces the calculation to use the data type specified.\n",
      "        Note that you may have to also give a more liberal `casting`\n",
      "        parameter to allow the conversions. Default is None.\n",
      "    order : {'C', 'F', 'A', 'K'}, optional\n",
      "        Controls the memory layout of the output. 'C' means it should\n",
      "        be C contiguous. 'F' means it should be Fortran contiguous,\n",
      "        'A' means it should be 'F' if the inputs are all 'F', 'C' otherwise.\n",
      "        'K' means it should be as close to the layout as the inputs as\n",
      "        is possible, including arbitrarily permuted axes.\n",
      "        Default is 'K'.\n",
      "    casting : {'no', 'equiv', 'safe', 'same_kind', 'unsafe'}, optional\n",
      "        Controls what kind of data casting may occur.  Setting this to\n",
      "        'unsafe' is not recommended, as it can adversely affect accumulations.\n",
      "    \n",
      "          * 'no' means the data types should not be cast at all.\n",
      "          * 'equiv' means only byte-order changes are allowed.\n",
      "          * 'safe' means only casts which can preserve values are allowed.\n",
      "          * 'same_kind' means only safe casts or casts within a kind,\n",
      "            like float64 to float32, are allowed.\n",
      "          * 'unsafe' means any data conversions may be done.\n",
      "    \n",
      "        Default is 'safe'.\n",
      "    optimize : {False, True, 'greedy', 'optimal'}, optional\n",
      "        Controls if intermediate optimization should occur. No optimization\n",
      "        will occur if False and True will default to the 'greedy' algorithm.\n",
      "        Also accepts an explicit contraction list from the ``np.einsum_path``\n",
      "        function. See ``np.einsum_path`` for more details. Defaults to False.\n",
      "    \n",
      "    Returns\n",
      "    -------\n",
      "    output : ndarray\n",
      "        The calculation based on the Einstein summation convention.\n",
      "    \n",
      "    See Also\n",
      "    --------\n",
      "    einsum_path, dot, inner, outer, tensordot, linalg.multi_dot\n",
      "    einops :\n",
      "        similar verbose interface is provided by\n",
      "        `einops <https://github.com/arogozhnikov/einops>`_ package to cover\n",
      "        additional operations: transpose, reshape/flatten, repeat/tile,\n",
      "        squeeze/unsqueeze and reductions.\n",
      "    opt_einsum :\n",
      "        `opt_einsum <https://optimized-einsum.readthedocs.io/en/stable/>`_\n",
      "        optimizes contraction order for einsum-like expressions\n",
      "        in backend-agnostic manner.\n",
      "    \n",
      "    Notes\n",
      "    -----\n",
      "    .. versionadded:: 1.6.0\n",
      "    \n",
      "    The Einstein summation convention can be used to compute\n",
      "    many multi-dimensional, linear algebraic array operations. `einsum`\n",
      "    provides a succinct way of representing these.\n",
      "    \n",
      "    A non-exhaustive list of these operations,\n",
      "    which can be computed by `einsum`, is shown below along with examples:\n",
      "    \n",
      "    * Trace of an array, :py:func:`numpy.trace`.\n",
      "    * Return a diagonal, :py:func:`numpy.diag`.\n",
      "    * Array axis summations, :py:func:`numpy.sum`.\n",
      "    * Transpositions and permutations, :py:func:`numpy.transpose`.\n",
      "    * Matrix multiplication and dot product, :py:func:`numpy.matmul` :py:func:`numpy.dot`.\n",
      "    * Vector inner and outer products, :py:func:`numpy.inner` :py:func:`numpy.outer`.\n",
      "    * Broadcasting, element-wise and scalar multiplication, :py:func:`numpy.multiply`.\n",
      "    * Tensor contractions, :py:func:`numpy.tensordot`.\n",
      "    * Chained array operations, in efficient calculation order, :py:func:`numpy.einsum_path`.\n",
      "    \n",
      "    The subscripts string is a comma-separated list of subscript labels,\n",
      "    where each label refers to a dimension of the corresponding operand.\n",
      "    Whenever a label is repeated it is summed, so ``np.einsum('i,i', a, b)``\n",
      "    is equivalent to :py:func:`np.inner(a,b) <numpy.inner>`. If a label\n",
      "    appears only once, it is not summed, so ``np.einsum('i', a)`` produces a\n",
      "    view of ``a`` with no changes. A further example ``np.einsum('ij,jk', a, b)``\n",
      "    describes traditional matrix multiplication and is equivalent to\n",
      "    :py:func:`np.matmul(a,b) <numpy.matmul>`. Repeated subscript labels in one\n",
      "    operand take the diagonal. For example, ``np.einsum('ii', a)`` is equivalent\n",
      "    to :py:func:`np.trace(a) <numpy.trace>`.\n",
      "    \n",
      "    In *implicit mode*, the chosen subscripts are important\n",
      "    since the axes of the output are reordered alphabetically.  This\n",
      "    means that ``np.einsum('ij', a)`` doesn't affect a 2D array, while\n",
      "    ``np.einsum('ji', a)`` takes its transpose. Additionally,\n",
      "    ``np.einsum('ij,jk', a, b)`` returns a matrix multiplication, while,\n",
      "    ``np.einsum('ij,jh', a, b)`` returns the transpose of the\n",
      "    multiplication since subscript 'h' precedes subscript 'i'.\n",
      "    \n",
      "    In *explicit mode* the output can be directly controlled by\n",
      "    specifying output subscript labels.  This requires the\n",
      "    identifier '->' as well as the list of output subscript labels.\n",
      "    This feature increases the flexibility of the function since\n",
      "    summing can be disabled or forced when required. The call\n",
      "    ``np.einsum('i->', a)`` is like :py:func:`np.sum(a, axis=-1) <numpy.sum>`,\n",
      "    and ``np.einsum('ii->i', a)`` is like :py:func:`np.diag(a) <numpy.diag>`.\n",
      "    The difference is that `einsum` does not allow broadcasting by default.\n",
      "    Additionally ``np.einsum('ij,jh->ih', a, b)`` directly specifies the\n",
      "    order of the output subscript labels and therefore returns matrix\n",
      "    multiplication, unlike the example above in implicit mode.\n",
      "    \n",
      "    To enable and control broadcasting, use an ellipsis.  Default\n",
      "    NumPy-style broadcasting is done by adding an ellipsis\n",
      "    to the left of each term, like ``np.einsum('...ii->...i', a)``.\n",
      "    To take the trace along the first and last axes,\n",
      "    you can do ``np.einsum('i...i', a)``, or to do a matrix-matrix\n",
      "    product with the left-most indices instead of rightmost, one can do\n",
      "    ``np.einsum('ij...,jk...->ik...', a, b)``.\n",
      "    \n",
      "    When there is only one operand, no axes are summed, and no output\n",
      "    parameter is provided, a view into the operand is returned instead\n",
      "    of a new array.  Thus, taking the diagonal as ``np.einsum('ii->i', a)``\n",
      "    produces a view (changed in version 1.10.0).\n",
      "    \n",
      "    `einsum` also provides an alternative way to provide the subscripts\n",
      "    and operands as ``einsum(op0, sublist0, op1, sublist1, ..., [sublistout])``.\n",
      "    If the output shape is not provided in this format `einsum` will be\n",
      "    calculated in implicit mode, otherwise it will be performed explicitly.\n",
      "    The examples below have corresponding `einsum` calls with the two\n",
      "    parameter methods.\n",
      "    \n",
      "    .. versionadded:: 1.10.0\n",
      "    \n",
      "    Views returned from einsum are now writeable whenever the input array\n",
      "    is writeable. For example, ``np.einsum('ijk...->kji...', a)`` will now\n",
      "    have the same effect as :py:func:`np.swapaxes(a, 0, 2) <numpy.swapaxes>`\n",
      "    and ``np.einsum('ii->i', a)`` will return a writeable view of the diagonal\n",
      "    of a 2D array.\n",
      "    \n",
      "    .. versionadded:: 1.12.0\n",
      "    \n",
      "    Added the ``optimize`` argument which will optimize the contraction order\n",
      "    of an einsum expression. For a contraction with three or more operands this\n",
      "    can greatly increase the computational efficiency at the cost of a larger\n",
      "    memory footprint during computation.\n",
      "    \n",
      "    Typically a 'greedy' algorithm is applied which empirical tests have shown\n",
      "    returns the optimal path in the majority of cases. In some cases 'optimal'\n",
      "    will return the superlative path through a more expensive, exhaustive search.\n",
      "    For iterative calculations it may be advisable to calculate the optimal path\n",
      "    once and reuse that path by supplying it as an argument. An example is given\n",
      "    below.\n",
      "    \n",
      "    See :py:func:`numpy.einsum_path` for more details.\n",
      "    \n",
      "    Examples\n",
      "    --------\n",
      "    >>> a = np.arange(25).reshape(5,5)\n",
      "    >>> b = np.arange(5)\n",
      "    >>> c = np.arange(6).reshape(2,3)\n",
      "    \n",
      "    Trace of a matrix:\n",
      "    \n",
      "    >>> np.einsum('ii', a)\n",
      "    60\n",
      "    >>> np.einsum(a, [0,0])\n",
      "    60\n",
      "    >>> np.trace(a)\n",
      "    60\n",
      "    \n",
      "    Extract the diagonal (requires explicit form):\n",
      "    \n",
      "    >>> np.einsum('ii->i', a)\n",
      "    array([ 0,  6, 12, 18, 24])\n",
      "    >>> np.einsum(a, [0,0], [0])\n",
      "    array([ 0,  6, 12, 18, 24])\n",
      "    >>> np.diag(a)\n",
      "    array([ 0,  6, 12, 18, 24])\n",
      "    \n",
      "    Sum over an axis (requires explicit form):\n",
      "    \n",
      "    >>> np.einsum('ij->i', a)\n",
      "    array([ 10,  35,  60,  85, 110])\n",
      "    >>> np.einsum(a, [0,1], [0])\n",
      "    array([ 10,  35,  60,  85, 110])\n",
      "    >>> np.sum(a, axis=1)\n",
      "    array([ 10,  35,  60,  85, 110])\n",
      "    \n",
      "    For higher dimensional arrays summing a single axis can be done with ellipsis:\n",
      "    \n",
      "    >>> np.einsum('...j->...', a)\n",
      "    array([ 10,  35,  60,  85, 110])\n",
      "    >>> np.einsum(a, [Ellipsis,1], [Ellipsis])\n",
      "    array([ 10,  35,  60,  85, 110])\n",
      "    \n",
      "    Compute a matrix transpose, or reorder any number of axes:\n",
      "    \n",
      "    >>> np.einsum('ji', c)\n",
      "    array([[0, 3],\n",
      "           [1, 4],\n",
      "           [2, 5]])\n",
      "    >>> np.einsum('ij->ji', c)\n",
      "    array([[0, 3],\n",
      "           [1, 4],\n",
      "           [2, 5]])\n",
      "    >>> np.einsum(c, [1,0])\n",
      "    array([[0, 3],\n",
      "           [1, 4],\n",
      "           [2, 5]])\n",
      "    >>> np.transpose(c)\n",
      "    array([[0, 3],\n",
      "           [1, 4],\n",
      "           [2, 5]])\n",
      "    \n",
      "    Vector inner products:\n",
      "    \n",
      "    >>> np.einsum('i,i', b, b)\n",
      "    30\n",
      "    >>> np.einsum(b, [0], b, [0])\n",
      "    30\n",
      "    >>> np.inner(b,b)\n",
      "    30\n",
      "    \n",
      "    Matrix vector multiplication:\n",
      "    \n",
      "    >>> np.einsum('ij,j', a, b)\n",
      "    array([ 30,  80, 130, 180, 230])\n",
      "    >>> np.einsum(a, [0,1], b, [1])\n",
      "    array([ 30,  80, 130, 180, 230])\n",
      "    >>> np.dot(a, b)\n",
      "    array([ 30,  80, 130, 180, 230])\n",
      "    >>> np.einsum('...j,j', a, b)\n",
      "    array([ 30,  80, 130, 180, 230])\n",
      "    \n",
      "    Broadcasting and scalar multiplication:\n",
      "    \n",
      "    >>> np.einsum('..., ...', 3, c)\n",
      "    array([[ 0,  3,  6],\n",
      "           [ 9, 12, 15]])\n",
      "    >>> np.einsum(',ij', 3, c)\n",
      "    array([[ 0,  3,  6],\n",
      "           [ 9, 12, 15]])\n",
      "    >>> np.einsum(3, [Ellipsis], c, [Ellipsis])\n",
      "    array([[ 0,  3,  6],\n",
      "           [ 9, 12, 15]])\n",
      "    >>> np.multiply(3, c)\n",
      "    array([[ 0,  3,  6],\n",
      "           [ 9, 12, 15]])\n",
      "    \n",
      "    Vector outer product:\n",
      "    \n",
      "    >>> np.einsum('i,j', np.arange(2)+1, b)\n",
      "    array([[0, 1, 2, 3, 4],\n",
      "           [0, 2, 4, 6, 8]])\n",
      "    >>> np.einsum(np.arange(2)+1, [0], b, [1])\n",
      "    array([[0, 1, 2, 3, 4],\n",
      "           [0, 2, 4, 6, 8]])\n",
      "    >>> np.outer(np.arange(2)+1, b)\n",
      "    array([[0, 1, 2, 3, 4],\n",
      "           [0, 2, 4, 6, 8]])\n",
      "    \n",
      "    Tensor contraction:\n",
      "    \n",
      "    >>> a = np.arange(60.).reshape(3,4,5)\n",
      "    >>> b = np.arange(24.).reshape(4,3,2)\n",
      "    >>> np.einsum('ijk,jil->kl', a, b)\n",
      "    array([[4400., 4730.],\n",
      "           [4532., 4874.],\n",
      "           [4664., 5018.],\n",
      "           [4796., 5162.],\n",
      "           [4928., 5306.]])\n",
      "    >>> np.einsum(a, [0,1,2], b, [1,0,3], [2,3])\n",
      "    array([[4400., 4730.],\n",
      "           [4532., 4874.],\n",
      "           [4664., 5018.],\n",
      "           [4796., 5162.],\n",
      "           [4928., 5306.]])\n",
      "    >>> np.tensordot(a,b, axes=([1,0],[0,1]))\n",
      "    array([[4400., 4730.],\n",
      "           [4532., 4874.],\n",
      "           [4664., 5018.],\n",
      "           [4796., 5162.],\n",
      "           [4928., 5306.]])\n",
      "    \n",
      "    Writeable returned arrays (since version 1.10.0):\n",
      "    \n",
      "    >>> a = np.zeros((3, 3))\n",
      "    >>> np.einsum('ii->i', a)[:] = 1\n",
      "    >>> a\n",
      "    array([[1., 0., 0.],\n",
      "           [0., 1., 0.],\n",
      "           [0., 0., 1.]])\n",
      "    \n",
      "    Example of ellipsis use:\n",
      "    \n",
      "    >>> a = np.arange(6).reshape((3,2))\n",
      "    >>> b = np.arange(12).reshape((4,3))\n",
      "    >>> np.einsum('ki,jk->ij', a, b)\n",
      "    array([[10, 28, 46, 64],\n",
      "           [13, 40, 67, 94]])\n",
      "    >>> np.einsum('ki,...k->i...', a, b)\n",
      "    array([[10, 28, 46, 64],\n",
      "           [13, 40, 67, 94]])\n",
      "    >>> np.einsum('k...,jk', a, b)\n",
      "    array([[10, 28, 46, 64],\n",
      "           [13, 40, 67, 94]])\n",
      "    \n",
      "    Chained array operations. For more complicated contractions, speed ups\n",
      "    might be achieved by repeatedly computing a 'greedy' path or pre-computing the\n",
      "    'optimal' path and repeatedly applying it, using an\n",
      "    `einsum_path` insertion (since version 1.12.0). Performance improvements can be\n",
      "    particularly significant with larger arrays:\n",
      "    \n",
      "    >>> a = np.ones(64).reshape(2,4,8)\n",
      "    \n",
      "    Basic `einsum`: ~1520ms  (benchmarked on 3.1GHz Intel i5.)\n",
      "    \n",
      "    >>> for iteration in range(500):\n",
      "    ...     _ = np.einsum('ijk,ilm,njm,nlk,abc->',a,a,a,a,a)\n",
      "    \n",
      "    Sub-optimal `einsum` (due to repeated path calculation time): ~330ms\n",
      "    \n",
      "    >>> for iteration in range(500):\n",
      "    ...     _ = np.einsum('ijk,ilm,njm,nlk,abc->',a,a,a,a,a, optimize='optimal')\n",
      "    \n",
      "    Greedy `einsum` (faster optimal path approximation): ~160ms\n",
      "    \n",
      "    >>> for iteration in range(500):\n",
      "    ...     _ = np.einsum('ijk,ilm,njm,nlk,abc->',a,a,a,a,a, optimize='greedy')\n",
      "    \n",
      "    Optimal `einsum` (best usage pattern in some use cases): ~110ms\n",
      "    \n",
      "    >>> path = np.einsum_path('ijk,ilm,njm,nlk,abc->',a,a,a,a,a, optimize='optimal')[0]\n",
      "    >>> for iteration in range(500):\n",
      "    ...     _ = np.einsum('ijk,ilm,njm,nlk,abc->',a,a,a,a,a, optimize=path)\n",
      "\n"
     ]
    }
   ],
   "source": [
    "help(np.einsum)"
   ]
  },
  {
   "cell_type": "markdown",
   "id": "7741e17f",
   "metadata": {},
   "source": [
    "#### 98. Considering a path described by two vectors (X,Y), how to sample it using equidistant samples (★★★)?"
   ]
  },
  {
   "cell_type": "code",
   "execution_count": null,
   "id": "0b2432fe",
   "metadata": {},
   "outputs": [],
   "source": []
  },
  {
   "cell_type": "markdown",
   "id": "340d6f36",
   "metadata": {},
   "source": [
    "#### 99. Given an integer n and a 2D array X, select from X the rows which can be interpreted as draws from a multinomial distribution with n degrees, i.e., the rows which only contain integers and which sum to n. (★★★)"
   ]
  },
  {
   "cell_type": "code",
   "execution_count": null,
   "id": "a75323ae",
   "metadata": {},
   "outputs": [],
   "source": []
  },
  {
   "cell_type": "markdown",
   "id": "19721849",
   "metadata": {},
   "source": [
    "#### 100. Compute bootstrapped 95% confidence intervals for the mean of a 1D array X (i.e., resample the elements of an array with replacement N times, compute the mean of each sample, and then compute percentiles over the means). (★★★)"
   ]
  },
  {
   "cell_type": "code",
   "execution_count": null,
   "id": "87309c6f",
   "metadata": {},
   "outputs": [],
   "source": []
  }
 ],
 "metadata": {
  "kernelspec": {
   "display_name": "Python 3 (ipykernel)",
   "language": "python",
   "name": "python3"
  },
  "language_info": {
   "codemirror_mode": {
    "name": "ipython",
    "version": 3
   },
   "file_extension": ".py",
   "mimetype": "text/x-python",
   "name": "python",
   "nbconvert_exporter": "python",
   "pygments_lexer": "ipython3",
   "version": "3.9.12"
  }
 },
 "nbformat": 4,
 "nbformat_minor": 5
}
